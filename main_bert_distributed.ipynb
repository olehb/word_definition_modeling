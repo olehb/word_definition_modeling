{
 "cells": [
  {
   "cell_type": "code",
   "execution_count": 1,
   "metadata": {},
   "outputs": [],
   "source": [
    "# %load_ext autoreload\n",
    "# %autoreload 2"
   ]
  },
  {
   "cell_type": "code",
   "execution_count": 2,
   "metadata": {},
   "outputs": [],
   "source": [
    "# !pip install transformers\n",
    "# !pip install loguru"
   ]
  },
  {
   "cell_type": "code",
   "execution_count": 3,
   "metadata": {
    "collapsed": false,
    "jupyter": {
     "outputs_hidden": false
    },
    "pycharm": {
     "name": "#%%\n"
    }
   },
   "outputs": [],
   "source": [
    "from transformers import (EncoderDecoderModel,\n",
    "                          PreTrainedModel,\n",
    "                          BertTokenizer,\n",
    "                          BertGenerationEncoder,\n",
    "                          BertGenerationDecoder)"
   ]
  },
  {
   "cell_type": "code",
   "execution_count": 4,
   "metadata": {},
   "outputs": [],
   "source": [
    "import os\n",
    "import torch\n",
    "from torch import nn\n",
    "from tqdm import tqdm\n",
    "from loguru import logger"
   ]
  },
  {
   "cell_type": "code",
   "execution_count": 5,
   "metadata": {
    "pycharm": {
     "name": "#%%\n"
    }
   },
   "outputs": [
    {
     "data": {
      "text/plain": "1"
     },
     "execution_count": 5,
     "metadata": {},
     "output_type": "execute_result"
    }
   ],
   "source": [
    "logger.add(\"log.txt\")"
   ]
  },
  {
   "cell_type": "markdown",
   "metadata": {
    "pycharm": {
     "name": "#%% md\n"
    }
   },
   "source": [
    "### Determining device to run on"
   ]
  },
  {
   "cell_type": "code",
   "execution_count": 6,
   "metadata": {
    "collapsed": false,
    "jupyter": {
     "outputs_hidden": false
    },
    "pycharm": {
     "name": "#%%\n"
    }
   },
   "outputs": [
    {
     "name": "stderr",
     "output_type": "stream",
     "text": [
      "2020-11-01 08:46:59.130 | INFO     | __main__:<module>:15 - Running on the CPU\n"
     ]
    }
   ],
   "source": [
    "if torch.cuda.is_available():\n",
    "    main_device = torch.device(\"cuda:0\")\n",
    "    device_count = torch.cuda.device_count()\n",
    "    if device_count > 1:\n",
    "        src_device = torch.device(\"cuda:1\")\n",
    "    else:\n",
    "        src_device = main_device\n",
    "        \n",
    "    logger.info(\"Running on the GPU\", main_device)\n",
    "else:\n",
    "    main_device = torch.device(\"cpu\")\n",
    "    src_device = torch.device(\"cpu\")\n",
    "    device_count = 1\n",
    "    logger.info(\"Running on the CPU\", main_device)"
   ]
  },
  {
   "cell_type": "markdown",
   "metadata": {
    "pycharm": {
     "name": "#%% md\n"
    }
   },
   "source": [
    "### Reading hyperparameters from SageMaker env variables"
   ]
  },
  {
   "cell_type": "code",
   "execution_count": 7,
   "metadata": {
    "collapsed": false,
    "jupyter": {
     "outputs_hidden": false
    },
    "pycharm": {
     "name": "#%%\n"
    }
   },
   "outputs": [],
   "source": [
    "model_type = os.environ.get('SM_HP_MODEL_TYPE', 'bert-base-uncased')\n",
    "data_loc = os.environ.get('SM_HP_DATA_LOC', '../data')\n",
    "epochs = int(os.environ.get('SM_HP_EPOCHS', 2))\n",
    "batch = int(os.environ.get('SM_HP_BATCH', 32)) * device_count\n",
    "lr = float(os.environ.get('SM_HP_LR', 1e-5))\n",
    "train_remotely = bool(int(os.environ.get('SM_HP_TRAIN_REMOTELY', 1)))\n",
    "is_sagemaker_estimator = 'TRAINING_JOB_NAME' in os.environ  # This code is running on the remote SageMaker estimator machine\n",
    "\n",
    "notebook_name = os.environ['SM_HP_NOTEBOOK_NAME'] if is_sagemaker_estimator else ''"
   ]
  },
  {
   "cell_type": "code",
   "execution_count": 8,
   "metadata": {
    "collapsed": false,
    "jupyter": {
     "outputs_hidden": false
    },
    "pycharm": {
     "name": "#%%\n"
    }
   },
   "outputs": [],
   "source": [
    "BOS_TOKEN_ID = 101\n",
    "EOS_TOKEN_ID = 102"
   ]
  },
  {
   "cell_type": "markdown",
   "metadata": {
    "pycharm": {
     "name": "#%% md\n"
    }
   },
   "source": [
    "### Initializing data loaders for Oxford2019 dataset"
   ]
  },
  {
   "cell_type": "code",
   "execution_count": 9,
   "metadata": {
    "collapsed": false,
    "jupyter": {
     "outputs_hidden": false
    },
    "pycharm": {
     "name": "#%%\n"
    }
   },
   "outputs": [],
   "source": [
    "from dataset import Oxford2019Dataset\n",
    "from torch.utils.data import DataLoader\n",
    "\n",
    "def make_data_loader(filename: str, file_loc: str = os.path.join(data_loc, 'Oxford-2019')) -> DataLoader:\n",
    "    dataset = Oxford2019Dataset(data_loc=os.path.join(file_loc, filename))\n",
    "    data_loader = DataLoader(dataset, batch_size=batch, shuffle=True, pin_memory=True)\n",
    "    return data_loader\n",
    "\n",
    "train_set = make_data_loader('train.txt')\n",
    "test_set = make_data_loader('test.txt')\n",
    "valid_set = make_data_loader('valid.txt')\n"
   ]
  },
  {
   "cell_type": "markdown",
   "metadata": {
    "pycharm": {
     "name": "#%% md\n"
    }
   },
   "source": [
    "### Function to run through one epoch\n",
    "This function is used in training, validation, and testing phases."
   ]
  },
  {
   "cell_type": "code",
   "execution_count": 10,
   "metadata": {
    "collapsed": false,
    "jupyter": {
     "outputs_hidden": false
    },
    "pycharm": {
     "name": "#%%\n"
    }
   },
   "outputs": [],
   "source": [
    "from typing import Callable\n",
    "\n",
    "def run(model: nn.Module,\n",
    "        data_loader: DataLoader,\n",
    "        tokenizer: BertTokenizer,\n",
    "        post_hook: Callable = None):\n",
    "\n",
    "    loss = 0\n",
    "    num_batches = len(data_loader)\n",
    "    for i, (words, examples, defs, _) in enumerate(tqdm(data_loader, disable=is_sagemaker_estimator)):\n",
    "        input_ids = tokenizer(examples,\n",
    "                              add_special_tokens=False,\n",
    "                              padding=True,\n",
    "                              truncation=True,\n",
    "                              return_tensors=\"pt\").input_ids\n",
    "        output_ids = tokenizer(defs,\n",
    "                               padding=True,\n",
    "                               truncation=True,\n",
    "                               return_tensors=\"pt\").input_ids\n",
    "        \n",
    "        input_ids = input_ids.to(src_device)\n",
    "        output_ids = output_ids.to(src_device)\n",
    "        \n",
    "        outputs = model(input_ids=input_ids,\n",
    "                        decoder_input_ids=output_ids,\n",
    "                        labels=output_ids,\n",
    "                        return_dict=True)\n",
    "        batch_loss = outputs.loss.sum()\n",
    "        loss += batch_loss.item()\n",
    "\n",
    "        if post_hook is not None:\n",
    "            post_hook(i, src_device.index, num_batches, batch_loss)\n",
    "    return loss"
   ]
  },
  {
   "cell_type": "markdown",
   "metadata": {
    "pycharm": {
     "name": "#%% md\n"
    }
   },
   "source": [
    "### Training loop function"
   ]
  },
  {
   "cell_type": "code",
   "execution_count": 42,
   "metadata": {
    "collapsed": false,
    "jupyter": {
     "outputs_hidden": false
    },
    "pycharm": {
     "name": "#%%\n"
    }
   },
   "outputs": [],
   "source": [
    "from transformers import AdamW\n",
    "\n",
    "\n",
    "def train(epochs: int, train_data_loader: DataLoader, valid_data_loader: DataLoader = None):\n",
    "    model = create_model(model_type)\n",
    "    optimizer = AdamW(model.parameters(), lr=lr)\n",
    "    tokenizer = BertTokenizer.from_pretrained(model_type)\n",
    "\n",
    "    def update_weights(bi, di, num_batches, batch_loss):\n",
    "        batch_loss.backward()\n",
    "        optimizer.step()\n",
    "        optimizer.zero_grad()\n",
    "        \n",
    "        if bi % 100 == 0:\n",
    "            logger.info(f'training: device={di}; batch={bi+1}/{num_batches}; batch_error={batch_loss.item()};')\n",
    "\n",
    "    def valid_loss_progress_log(bi, di, num_batches, batch_loss):\n",
    "        if bi % 100 == 0:\n",
    "            logger.info(f'validation: device={di}; batch={bi+1}/{num_batches}; val_batch_error={batch_loss.item()};')\n",
    "\n",
    "    for i in range(epochs):\n",
    "        model.train()\n",
    "        train_loss = run(model, train_data_loader, tokenizer, update_weights)\n",
    "\n",
    "        if valid_data_loader is not None:\n",
    "            with torch.no_grad():\n",
    "                model.eval()\n",
    "                val_loss = run(model, valid_data_loader, tokenizer, valid_loss_progress_log)\n",
    "        else:\n",
    "            val_loss = 'N/A'\n",
    "        \n",
    "        logger.info(f'epoch={i}; train_error={train_loss};  valid_error={val_loss};')\n",
    "    return model.module"
   ]
  },
  {
   "cell_type": "markdown",
   "metadata": {
    "pycharm": {
     "name": "#%% md\n"
    }
   },
   "source": [
    "### Function for saving the model"
   ]
  },
  {
   "cell_type": "code",
   "execution_count": 43,
   "metadata": {},
   "outputs": [],
   "source": [
    "def save_model(model: PreTrainedModel):\n",
    "    out_loc = '/opt/ml/model' if is_sagemaker_estimator else '.'\n",
    "    !mkdir -p {out_loc}\n",
    "\n",
    "    model.save_pretrained(out_loc)\n",
    "\n",
    "    !cp {notebook_name}.py {out_loc}\n",
    "    !cp {notebook_name}.ipynb {out_loc}\n",
    "    !cp log.txt {out_loc}"
   ]
  },
  {
   "cell_type": "code",
   "execution_count": 56,
   "outputs": [],
   "source": [
    "def create_model(model_checkpoint_name: str):\n",
    "    encoder = BertGenerationEncoder.from_pretrained(model_checkpoint_name,\n",
    "                                                    bos_token_id=BOS_TOKEN_ID,\n",
    "                                                    eos_token_id=EOS_TOKEN_ID) # add cross attention layers and use BERT’s cls token as BOS token and sep token as EOS token\n",
    "\n",
    "    decoder = BertGenerationDecoder.from_pretrained(model_checkpoint_name,\n",
    "                                                    add_cross_attention=True,\n",
    "                                                    is_decoder=True,\n",
    "                                                    bos_token_id=BOS_TOKEN_ID,\n",
    "                                                    eos_token_id=EOS_TOKEN_ID)\n",
    "    encoder.requires_grad_(False)\n",
    "    decoder.bert.embeddings.requires_grad_(False)\n",
    "\n",
    "    model = EncoderDecoderModel(encoder=encoder, decoder=decoder).to(src_device)\n",
    "\n",
    "    return model"
   ],
   "metadata": {
    "collapsed": false,
    "pycharm": {
     "name": "#%%\n"
    }
   }
  },
  {
   "cell_type": "markdown",
   "metadata": {},
   "source": [
    "### Quick sanity check for the training loop"
   ]
  },
  {
   "cell_type": "code",
   "execution_count": 55,
   "metadata": {
    "collapsed": false,
    "jupyter": {
     "outputs_hidden": false
    },
    "pycharm": {
     "name": "#%%\n"
    }
   },
   "outputs": [
    {
     "ename": "AssertionError",
     "evalue": "Config has to be initialized with encoder and decoder config",
     "output_type": "error",
     "traceback": [
      "\u001B[0;31m---------------------------------------------------------------------------\u001B[0m",
      "\u001B[0;31mAssertionError\u001B[0m                            Traceback (most recent call last)",
      "\u001B[0;32m<ipython-input-55-82778505a6e9>\u001B[0m in \u001B[0;36m<module>\u001B[0;34m()\u001B[0m\n\u001B[1;32m      1\u001B[0m \u001B[0;34m\u001B[0m\u001B[0m\n\u001B[1;32m      2\u001B[0m \u001B[0;32mif\u001B[0m \u001B[0;32mnot\u001B[0m \u001B[0mis_sagemaker_estimator\u001B[0m\u001B[0;34m:\u001B[0m\u001B[0;34m\u001B[0m\u001B[0;34m\u001B[0m\u001B[0m\n\u001B[0;32m----> 3\u001B[0;31m     \u001B[0mmodel\u001B[0m \u001B[0;34m=\u001B[0m \u001B[0mcreate_model\u001B[0m\u001B[0;34m(\u001B[0m\u001B[0mmodel_type\u001B[0m\u001B[0;34m)\u001B[0m\u001B[0;34m\u001B[0m\u001B[0;34m\u001B[0m\u001B[0m\n\u001B[0m\u001B[1;32m      4\u001B[0m \u001B[0;34m\u001B[0m\u001B[0m\n\u001B[1;32m      5\u001B[0m     \u001B[0;31m# torch.cuda.empty_cache()\u001B[0m\u001B[0;34m\u001B[0m\u001B[0;34m\u001B[0m\u001B[0;34m\u001B[0m\u001B[0m\n",
      "\u001B[0;32m<ipython-input-54-866e47b291c4>\u001B[0m in \u001B[0;36mcreate_model\u001B[0;34m(model_checkpoint_name)\u001B[0m\n\u001B[1;32m     14\u001B[0m \u001B[0;34m\u001B[0m\u001B[0m\n\u001B[1;32m     15\u001B[0m     \u001B[0;31m# model = EncoderDecoderModel(encoder=encoder, decoder=decoder).to(src_device)\u001B[0m\u001B[0;34m\u001B[0m\u001B[0;34m\u001B[0m\u001B[0;34m\u001B[0m\u001B[0m\n\u001B[0;32m---> 16\u001B[0;31m     \u001B[0mmodel\u001B[0m \u001B[0;34m=\u001B[0m \u001B[0mEncoderDecoderModel\u001B[0m\u001B[0;34m.\u001B[0m\u001B[0mfrom_pretrained\u001B[0m\u001B[0;34m(\u001B[0m\u001B[0mmodel_checkpoint_name\u001B[0m\u001B[0;34m)\u001B[0m\u001B[0;34m\u001B[0m\u001B[0;34m\u001B[0m\u001B[0m\n\u001B[0m\u001B[1;32m     17\u001B[0m \u001B[0;34m\u001B[0m\u001B[0m\n\u001B[1;32m     18\u001B[0m     \u001B[0;32mreturn\u001B[0m \u001B[0mmodel\u001B[0m\u001B[0;34m\u001B[0m\u001B[0;34m\u001B[0m\u001B[0m\n",
      "\u001B[0;32m/Users/oboiko/opt/miniconda3/envs/S37/lib/python3.7/site-packages/transformers/modeling_utils.py\u001B[0m in \u001B[0;36mfrom_pretrained\u001B[0;34m(cls, pretrained_model_name_or_path, *model_args, **kwargs)\u001B[0m\n\u001B[1;32m    874\u001B[0m                 \u001B[0mproxies\u001B[0m\u001B[0;34m=\u001B[0m\u001B[0mproxies\u001B[0m\u001B[0;34m,\u001B[0m\u001B[0;34m\u001B[0m\u001B[0;34m\u001B[0m\u001B[0m\n\u001B[1;32m    875\u001B[0m                 \u001B[0mlocal_files_only\u001B[0m\u001B[0;34m=\u001B[0m\u001B[0mlocal_files_only\u001B[0m\u001B[0;34m,\u001B[0m\u001B[0;34m\u001B[0m\u001B[0;34m\u001B[0m\u001B[0m\n\u001B[0;32m--> 876\u001B[0;31m                 \u001B[0;34m**\u001B[0m\u001B[0mkwargs\u001B[0m\u001B[0;34m,\u001B[0m\u001B[0;34m\u001B[0m\u001B[0;34m\u001B[0m\u001B[0m\n\u001B[0m\u001B[1;32m    877\u001B[0m             )\n\u001B[1;32m    878\u001B[0m         \u001B[0;32melse\u001B[0m\u001B[0;34m:\u001B[0m\u001B[0;34m\u001B[0m\u001B[0;34m\u001B[0m\u001B[0m\n",
      "\u001B[0;32m/Users/oboiko/opt/miniconda3/envs/S37/lib/python3.7/site-packages/transformers/configuration_utils.py\u001B[0m in \u001B[0;36mfrom_pretrained\u001B[0;34m(cls, pretrained_model_name_or_path, **kwargs)\u001B[0m\n\u001B[1;32m    328\u001B[0m         \"\"\"\n\u001B[1;32m    329\u001B[0m         \u001B[0mconfig_dict\u001B[0m\u001B[0;34m,\u001B[0m \u001B[0mkwargs\u001B[0m \u001B[0;34m=\u001B[0m \u001B[0mcls\u001B[0m\u001B[0;34m.\u001B[0m\u001B[0mget_config_dict\u001B[0m\u001B[0;34m(\u001B[0m\u001B[0mpretrained_model_name_or_path\u001B[0m\u001B[0;34m,\u001B[0m \u001B[0;34m**\u001B[0m\u001B[0mkwargs\u001B[0m\u001B[0;34m)\u001B[0m\u001B[0;34m\u001B[0m\u001B[0;34m\u001B[0m\u001B[0m\n\u001B[0;32m--> 330\u001B[0;31m         \u001B[0;32mreturn\u001B[0m \u001B[0mcls\u001B[0m\u001B[0;34m.\u001B[0m\u001B[0mfrom_dict\u001B[0m\u001B[0;34m(\u001B[0m\u001B[0mconfig_dict\u001B[0m\u001B[0;34m,\u001B[0m \u001B[0;34m**\u001B[0m\u001B[0mkwargs\u001B[0m\u001B[0;34m)\u001B[0m\u001B[0;34m\u001B[0m\u001B[0;34m\u001B[0m\u001B[0m\n\u001B[0m\u001B[1;32m    331\u001B[0m \u001B[0;34m\u001B[0m\u001B[0m\n\u001B[1;32m    332\u001B[0m     \u001B[0;34m@\u001B[0m\u001B[0mclassmethod\u001B[0m\u001B[0;34m\u001B[0m\u001B[0;34m\u001B[0m\u001B[0m\n",
      "\u001B[0;32m/Users/oboiko/opt/miniconda3/envs/S37/lib/python3.7/site-packages/transformers/configuration_utils.py\u001B[0m in \u001B[0;36mfrom_dict\u001B[0;34m(cls, config_dict, **kwargs)\u001B[0m\n\u001B[1;32m    415\u001B[0m         \u001B[0mreturn_unused_kwargs\u001B[0m \u001B[0;34m=\u001B[0m \u001B[0mkwargs\u001B[0m\u001B[0;34m.\u001B[0m\u001B[0mpop\u001B[0m\u001B[0;34m(\u001B[0m\u001B[0;34m\"return_unused_kwargs\"\u001B[0m\u001B[0;34m,\u001B[0m \u001B[0;32mFalse\u001B[0m\u001B[0;34m)\u001B[0m\u001B[0;34m\u001B[0m\u001B[0;34m\u001B[0m\u001B[0m\n\u001B[1;32m    416\u001B[0m \u001B[0;34m\u001B[0m\u001B[0m\n\u001B[0;32m--> 417\u001B[0;31m         \u001B[0mconfig\u001B[0m \u001B[0;34m=\u001B[0m \u001B[0mcls\u001B[0m\u001B[0;34m(\u001B[0m\u001B[0;34m**\u001B[0m\u001B[0mconfig_dict\u001B[0m\u001B[0;34m)\u001B[0m\u001B[0;34m\u001B[0m\u001B[0;34m\u001B[0m\u001B[0m\n\u001B[0m\u001B[1;32m    418\u001B[0m \u001B[0;34m\u001B[0m\u001B[0m\n\u001B[1;32m    419\u001B[0m         \u001B[0;32mif\u001B[0m \u001B[0mhasattr\u001B[0m\u001B[0;34m(\u001B[0m\u001B[0mconfig\u001B[0m\u001B[0;34m,\u001B[0m \u001B[0;34m\"pruned_heads\"\u001B[0m\u001B[0;34m)\u001B[0m\u001B[0;34m:\u001B[0m\u001B[0;34m\u001B[0m\u001B[0;34m\u001B[0m\u001B[0m\n",
      "\u001B[0;32m/Users/oboiko/opt/miniconda3/envs/S37/lib/python3.7/site-packages/transformers/configuration_encoder_decoder.py\u001B[0m in \u001B[0;36m__init__\u001B[0;34m(self, **kwargs)\u001B[0m\n\u001B[1;32m     76\u001B[0m         assert (\n\u001B[1;32m     77\u001B[0m             \u001B[0;34m\"encoder\"\u001B[0m \u001B[0;32min\u001B[0m \u001B[0mkwargs\u001B[0m \u001B[0;32mand\u001B[0m \u001B[0;34m\"decoder\"\u001B[0m \u001B[0;32min\u001B[0m \u001B[0mkwargs\u001B[0m\u001B[0;34m\u001B[0m\u001B[0;34m\u001B[0m\u001B[0m\n\u001B[0;32m---> 78\u001B[0;31m         ), \"Config has to be initialized with encoder and decoder config\"\n\u001B[0m\u001B[1;32m     79\u001B[0m         \u001B[0mencoder_config\u001B[0m \u001B[0;34m=\u001B[0m \u001B[0mkwargs\u001B[0m\u001B[0;34m.\u001B[0m\u001B[0mpop\u001B[0m\u001B[0;34m(\u001B[0m\u001B[0;34m\"encoder\"\u001B[0m\u001B[0;34m)\u001B[0m\u001B[0;34m\u001B[0m\u001B[0;34m\u001B[0m\u001B[0m\n\u001B[1;32m     80\u001B[0m         \u001B[0mencoder_model_type\u001B[0m \u001B[0;34m=\u001B[0m \u001B[0mencoder_config\u001B[0m\u001B[0;34m.\u001B[0m\u001B[0mpop\u001B[0m\u001B[0;34m(\u001B[0m\u001B[0;34m\"model_type\"\u001B[0m\u001B[0;34m)\u001B[0m\u001B[0;34m\u001B[0m\u001B[0;34m\u001B[0m\u001B[0m\n",
      "\u001B[0;31mAssertionError\u001B[0m: Config has to be initialized with encoder and decoder config"
     ]
    }
   ],
   "source": [
    "if not is_sagemaker_estimator:\n",
    "    # model = create_model(model_type)\n",
    "    # torch.cuda.empty_cache()\n",
    "    # train_file = os.path.join(data_loc, 'Oxford-2019', 'train.txt')\n",
    "    # tiny_size = batch * 5\n",
    "    # tiny_file = os.path.join(data_loc, 'Oxford-2019', 'tiny.txt')\n",
    "    # !head -n {tiny_size} {train_file} > {tiny_file}\n",
    "    tiny_set = make_data_loader('tiny.txt')\n",
    "\n",
    "    model = train(epochs=1, train_data_loader=tiny_set, valid_data_loader=tiny_set)\n",
    "    save_model(model)\n",
    "\n",
    "    model.eval()\n",
    "    tokenizer = BertTokenizer.from_pretrained(model_type)\n",
    "    input_ids = torch.tensor(tokenizer.encode(\"Basketball Basketball's early adherents were dispatched to YMCAs throughout the United States, and it quickly spread through the United States and Canada\", add_special_tokens=True)).unsqueeze(0).to(src_device)\n",
    "    generated = model.generate(input_ids, decoder_start_token_id=model.config.decoder.pad_token_id)\n",
    "    print(tokenizer.decode(generated.squeeze(), skip_special_tokens=True))"
   ]
  },
  {
   "cell_type": "markdown",
   "metadata": {
    "pycharm": {
     "name": "#%% md\n"
    }
   },
   "source": [
    "### Training\n",
    "Training can be done either on the same machine where notebook is running or remotely on SageMaker estimator"
   ]
  },
  {
   "cell_type": "code",
   "execution_count": null,
   "outputs": [],
   "source": [
    "import sagemaker\n",
    "from sagemaker.pytorch import PyTorch\n",
    "\n",
    "if is_sagemaker_estimator:\n",
    "    model = train(epochs=epochs, train_data_loader=train_set, valid_data_loader=valid_set)\n",
    "    save_model(model)\n",
    "elif train_remotely:\n",
    "    role = sagemaker.get_execution_role()\n",
    "    output_path = f's3://chegg-ds-data/oboiko/wdm-output'\n",
    "\n",
    "    pytorch_estimator = PyTorch(entry_point='train.sh',\n",
    "                                base_job_name='wdm-1',\n",
    "                                role=role,\n",
    "                                train_instance_count=1,\n",
    "                                train_instance_type='ml.p2.8xlarge',  # GPU instance\n",
    "                                train_volume_size=50,\n",
    "                                train_max_run=86400,  # 24 hours\n",
    "                                hyperparameters={\n",
    "                                  'model_type': 'bert-base-uncased',\n",
    "                                  'data_loc': '/opt/data',\n",
    "                                  'batch': 32,\n",
    "                                  'epochs': 10,\n",
    "                                  'lr': 1e-5,\n",
    "                                  'train_remotely': 0,\n",
    "                                  'notebook_name': 'main_bert_distributed'\n",
    "                                },\n",
    "                                framework_version='1.6.0',\n",
    "                                py_version='py3',\n",
    "                                source_dir='.',  # This entire folder will be transferred to training instance\n",
    "                                debugger_hook_config=False,\n",
    "                                output_path=output_path,  # Model files will be uploaded here\n",
    "                                image_name='954558792927.dkr.ecr.us-west-2.amazonaws.com/sagemaker/wdm:latest',\n",
    "                                metric_definitions=[\n",
    "                                    {'Name': 'train:error', 'Regex': 'train_error=(.*?);'},\n",
    "                                    {'Name': 'validation:error', 'Regex': 'valid_error=(.*?);'},\n",
    "                                    {'Name': 'batch:error', 'Regex': 'batch_error=(.*?);'}\n",
    "                                ]\n",
    "                     )\n",
    "\n",
    "    pytorch_estimator.fit('s3://chegg-ds-data/oboiko/wdm/dummy.txt', wait=False)"
   ],
   "metadata": {
    "collapsed": false,
    "pycharm": {
     "name": "#%%\n"
    }
   }
  },
  {
   "cell_type": "code",
   "execution_count": null,
   "metadata": {
    "collapsed": false,
    "jupyter": {
     "outputs_hidden": false
    },
    "pycharm": {
     "name": "#%%\n"
    }
   },
   "outputs": [],
   "source": [
    "TODO: For loss function... instead of doing log_softmax, do MSE with actual GloVe vector and minimize this loss function.\n",
    "Then for BLEU evaluation, you'll need a function to find the closest vector to the one produced by the model.\n",
    "\n",
    "Interesting to compare these results to log_softmax"
   ]
  },
  {
   "cell_type": "markdown",
   "metadata": {},
   "source": [
    "TODO: For loss function... instead of doing log_softmax, do MSE with actual GloVe vector and minimize this loss function.\n",
    "Then for BLEU evaluation, you'll need a function to find the closest vector to the one produced by the model.\n",
    "\n",
    "Interesting to compare these results to log_softmax"
   ]
  }
 ],
 "metadata": {
  "kernelspec": {
   "name": "python3",
   "language": "python",
   "display_name": "Python 3"
  },
  "language_info": {
   "codemirror_mode": {
    "name": "ipython",
    "version": 3
   },
   "file_extension": ".py",
   "mimetype": "text/x-python",
   "name": "python",
   "nbconvert_exporter": "python",
   "pygments_lexer": "ipython3",
   "version": "3.6.10"
  },
  "toc": {
   "base_numbering": 1,
   "nav_menu": {
    "height": "146.989px",
    "width": "305px"
   },
   "number_sections": true,
   "sideBar": true,
   "skip_h1_title": false,
   "title_cell": "Table of Contents",
   "title_sidebar": "Contents",
   "toc_cell": false,
   "toc_position": {},
   "toc_section_display": true,
   "toc_window_display": false
  }
 },
 "nbformat": 4,
 "nbformat_minor": 4
}