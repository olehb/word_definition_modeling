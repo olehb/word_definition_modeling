{
 "cells": [
  {
   "cell_type": "code",
   "execution_count": 1,
   "metadata": {},
   "outputs": [],
   "source": [
    "%load_ext autoreload\n",
    "%autoreload 2"
   ]
  },
  {
   "cell_type": "code",
   "execution_count": 15,
   "metadata": {},
   "outputs": [],
   "source": [
    "from embeddings import Embeddings, load_glove_embeddings"
   ]
  },
  {
   "cell_type": "code",
   "execution_count": 16,
   "metadata": {},
   "outputs": [],
   "source": [
    "import os\n",
    "from utils import *\n",
    "from tqdm import tqdm\n",
    "from torch.nn.utils.rnn import (pad_sequence,\n",
    "                                pack_padded_sequence,\n",
    "                                pad_packed_sequence)"
   ]
  },
  {
   "cell_type": "code",
   "execution_count": 44,
   "metadata": {},
   "outputs": [],
   "source": [
    "dim = int(os.environ.get('SM_HP_GLOVE_DIM', 50))\n",
    "max_length = int(os.environ.get('SM_HP_MAX_LENGTH', 30))\n",
    "data_loc = os.environ.get('SM_HP_DATA_LOC', '../data')\n",
    "epochs = int(os.environ.get('SM_HP_EPOCHS', 1))\n",
    "batch = int(os.environ.get('SM_HP_BATCH', 100))\n",
    "\n",
    "lr = float(os.environ.get('SM_HP_LR', 0.01))\n",
    "train_remotely = bool(int(os.environ.get('SM_HP_TRAIN_REMOTELY', 0)))"
   ]
  },
  {
   "cell_type": "code",
   "execution_count": 27,
   "metadata": {
    "collapsed": false,
    "jupyter": {
     "outputs_hidden": false
    },
    "pycharm": {
     "name": "#%%\n"
    }
   },
   "outputs": [
    {
     "data": {
      "text/plain": [
       "400003"
      ]
     },
     "execution_count": 27,
     "metadata": {},
     "output_type": "execute_result"
    }
   ],
   "source": [
    "embeddings = load_glove_embeddings(dim, data_loc)\n",
    "len(embeddings)"
   ]
  },
  {
   "cell_type": "code",
   "execution_count": 28,
   "metadata": {
    "collapsed": false,
    "jupyter": {
     "outputs_hidden": false
    },
    "pycharm": {
     "name": "#%%\n"
    }
   },
   "outputs": [
    {
     "data": {
      "text/plain": [
       "tensor([ 0.4769, -0.0846,  1.4641,  0.0470,  0.1469,  0.5082, -1.2228, -0.2261,\n",
       "         0.1931, -0.2976,  0.2060, -0.7128, -1.6288,  0.1710,  0.7480, -0.0619,\n",
       "        -0.6577,  1.3786, -0.6804, -1.7551,  0.5832,  0.2516, -1.2114,  0.8134,\n",
       "         0.0948, -1.6819, -0.6450,  0.6322,  1.1211,  0.1611,  2.5379,  0.2485,\n",
       "        -0.2682,  0.3282,  1.2916,  0.2355,  0.6147, -0.1344, -0.1324,  0.2740,\n",
       "        -0.1182,  0.1354,  0.0743, -0.6195,  0.4547, -0.3032, -0.2188, -0.5605,\n",
       "         1.1177, -0.3659])"
      ]
     },
     "execution_count": 28,
     "metadata": {},
     "output_type": "execute_result"
    }
   ],
   "source": [
    "embeddings['car']"
   ]
  },
  {
   "cell_type": "code",
   "execution_count": 29,
   "metadata": {
    "collapsed": false,
    "jupyter": {
     "outputs_hidden": false
    },
    "pycharm": {
     "name": "#%%\n"
    }
   },
   "outputs": [],
   "source": [
    "dataset = Oxford2019Dataset(data_loc=os.path.join(data_loc, 'Oxford-2019', 'ALL.txt'))\n",
    "dataset_loader = torch.utils.data.DataLoader(dataset,\n",
    "                                             batch_size=batch, shuffle=True)"
   ]
  },
  {
   "cell_type": "code",
   "execution_count": 30,
   "metadata": {},
   "outputs": [],
   "source": [
    "data = [\n",
    "    (\"sequencer\", \"dna sequencing was carried out using the dye termination kit and an automatic sequencer\", \"an apparatus for determining the sequence of amino acids or other monomers in a biological polymer\"),\n",
    "    (\"order\", \"the templars were also known as the order of christ\", \"a society of knights bound by a common rule of life and having a combined military and monastic character\"),\n",
    "    (\"horde\", \"an army or tribe of nomadic warriors\", \"the viking hordes returned to york this weekend as fierce armoured warriors mingled with the city centre crowds .\"),\n",
    "    (\"anaemic\", \"although it has been thought of as a symptom of iron deficiency , it is more commonly discovered in patients who are not anemic .\", \"suffering from anaemia\")\n",
    "]"
   ]
  },
  {
   "cell_type": "code",
   "execution_count": 31,
   "metadata": {},
   "outputs": [],
   "source": [
    "from itertools import chain\n",
    "\n",
    "from typing import List\n",
    "\n",
    "def to_packed_sequence(items: List[torch.Tensor]):\n",
    "    lens = [len(s) for s in items]\n",
    "    return pack_padded_sequence(pad_sequence(items), lens, enforce_sorted=False)\n",
    "\n",
    "def sentence_to_list(sent):\n",
    "    return chain([Embeddings.SOS_STR], sent.split(), [Embeddings.EOS_STR])\n",
    "\n",
    "def strings_to_batch(strings: List[str]) -> torch.nn.utils.rnn.PackedSequence:\n",
    "    sents_emb = [embeddings.sentence_to_tensor(sentence_to_list(sent)) for sent in strings]\n",
    "    lens = [len(s) for s in sents_emb]\n",
    "    batch = pack_padded_sequence(pad_sequence(sents_emb), lens, enforce_sorted=False)\n",
    "    return batch, lens\n",
    "\n",
    "def strings_to_ids(strings: List[str]) -> List[int]:\n",
    "    ids = [embeddings.sentence_to_ids(sentence_to_list(sent)) for sent in strings]\n",
    "    return to_packed_sequence(ids)\n"
   ]
  },
  {
   "cell_type": "code",
   "execution_count": 32,
   "metadata": {
    "collapsed": false,
    "jupyter": {
     "outputs_hidden": false
    },
    "pycharm": {
     "name": "#%%\n"
    }
   },
   "outputs": [],
   "source": [
    "examples, examples_lens = strings_to_batch([d[1] for d in data])\n",
    "defs, defs_lens = strings_to_batch([d[2] for d in data])\n",
    "defs_ids = strings_to_ids([d[2] for d in data])"
   ]
  },
  {
   "cell_type": "code",
   "execution_count": 33,
   "metadata": {},
   "outputs": [],
   "source": [
    "from wdm import LSTMEncoder, LSTMCellDecoder"
   ]
  },
  {
   "cell_type": "code",
   "execution_count": 34,
   "metadata": {},
   "outputs": [],
   "source": [
    "encoder = LSTMEncoder(dim, dim)\n",
    "# dim*2 because encoder is bidirectional\n",
    "decoder = LSTMCellDecoder(dim, dim*2, len(embeddings))"
   ]
  },
  {
   "cell_type": "code",
   "execution_count": 40,
   "metadata": {},
   "outputs": [],
   "source": [
    "def train(epochs, lr):\n",
    "    criterion = nn.NLLLoss()\n",
    "    log_softmax = nn.LogSoftmax(dim=1)\n",
    "\n",
    "    # encoder_optim = torch.optim.Adam(encoder.parameters())\n",
    "    # decoder_optim = torch.optim.Adam(decoder.parameters())\n",
    "\n",
    "    encoder_optim = torch.optim.SGD(encoder.parameters(), lr=lr)\n",
    "    decoder_optim = torch.optim.SGD(decoder.parameters(), lr=lr)\n",
    "    loss = 0\n",
    "\n",
    "    for i in range(epochs):\n",
    "        epoch_loss = 0\n",
    "        j = 0\n",
    "        for words, defs, examples in tqdm(dataset_loader, disable=True):\n",
    "            encoder_optim.zero_grad()\n",
    "            decoder_optim.zero_grad()\n",
    "\n",
    "            examples_ps, examples_lens = strings_to_batch(examples)\n",
    "            defs_ps, defs_lens = strings_to_batch(defs)\n",
    "            def_ids = strings_to_ids(defs)\n",
    "\n",
    "            e_out, e_hidden = encoder(examples_ps)\n",
    "\n",
    "            decoder_input = torch.cat((e_hidden[0], e_hidden[1]), dim=1)\n",
    "            # decoder_input = decoder_input[examples.unsorted_indices]  # pytorch will do this automatically\n",
    "            # decoder_input = decoder_input[defs.sorted_indices]  # pytorch will do this automatically\n",
    "            decoder_input = decoder_input.unsqueeze(dim=0)\n",
    "\n",
    "            d_out = decoder(defs_ps, decoder_input)\n",
    "            d_out_lsm = squash_packed(d_out, log_softmax).data\n",
    "\n",
    "            loss = criterion(d_out_lsm, def_ids.data)\n",
    "\n",
    "            loss.backward()\n",
    "\n",
    "            encoder_optim.step()\n",
    "            decoder_optim.step()\n",
    "\n",
    "            j += 1\n",
    "\n",
    "            if j % 10 == 0:\n",
    "                break\n",
    "\n",
    "        print(f'Epoch {i}, loss {loss.item()}')"
   ]
  },
  {
   "cell_type": "code",
   "execution_count": null,
   "metadata": {},
   "outputs": [],
   "source": [
    "import sagemaker\n",
    "from sagemaker.pytorch import PyTorch\n",
    "\n",
    "if train_remotely:\n",
    "    role = sagemaker.get_execution_role()\n",
    "    output_path = f'{DATASET_S3_PATH}-output'\n",
    "\n",
    "    pytorch_estimator_l = PyTorch(entry_point='train.sh',\n",
    "                                base_job_name='wdm-1',\n",
    "                                role=role,\n",
    "                                train_instance_count=1,\n",
    "                                train_instance_type='ml.g4dn.2xlarge',  # GPU instance\n",
    "                                train_volume_size=50,\n",
    "                                train_max_run=86400,  # 24 hours\n",
    "                                hyperparameters={\n",
    "                                  'glove_dim': 50,\n",
    "                                  'max_length': 30,\n",
    "                                  'data_loc': '/opt/data' \n",
    "                                  'epochs': 10,\n",
    "                                  'lr': 0.01,\n",
    "                                  'train_remotely': 0\n",
    "                                },\n",
    "                                framework_version='1.6.0',\n",
    "                                py_version='py3',\n",
    "                                source_dir='.',  # This entire folder will be transferred to training instance\n",
    "                                debugger_hook_config=False,\n",
    "                                output_path=output_path,  # Model files will be uploaded here\n",
    "                                image_name='954558792927.dkr.ecr.us-west-2.amazonaws.com/sagemaker/wdm:latest'\n",
    "                     )\n",
    "\n",
    "    pytorch_estimator_l.fit('', wait=False)\n",
    "    "
   ]
  },
  {
   "cell_type": "code",
   "execution_count": 42,
   "metadata": {},
   "outputs": [],
   "source": [
    "if 'TRAINING_JOB_NAME' in os.environ or not train_remotely:\n",
    "    train(epochs, lr)    "
   ]
  },
  {
   "cell_type": "markdown",
   "metadata": {},
   "source": [
    "TODO: For loss function... instead of doing log_softmax, do MSE with actual GloVe vector and minimize this loss function.\n",
    "Then for BLEU evaluation, you'll need a function to find the closest vector to the one produced by the model.\n",
    "\n",
    "Interesting to compare these results to log_softmax"
   ]
  }
 ],
 "metadata": {
  "kernelspec": {
   "display_name": "conda_pytorch_latest_p36",
   "language": "python",
   "name": "conda_pytorch_latest_p36"
  },
  "language_info": {
   "codemirror_mode": {
    "name": "ipython",
    "version": 3
   },
   "file_extension": ".py",
   "mimetype": "text/x-python",
   "name": "python",
   "nbconvert_exporter": "python",
   "pygments_lexer": "ipython3",
   "version": "3.6.10"
  },
  "toc": {
   "base_numbering": 1,
   "nav_menu": {
    "height": "146.989px",
    "width": "305px"
   },
   "number_sections": true,
   "sideBar": true,
   "skip_h1_title": false,
   "title_cell": "Table of Contents",
   "title_sidebar": "Contents",
   "toc_cell": false,
   "toc_position": {},
   "toc_section_display": true,
   "toc_window_display": false
  }
 },
 "nbformat": 4,
 "nbformat_minor": 4
}
