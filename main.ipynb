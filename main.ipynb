{
 "cells": [
  {
   "cell_type": "code",
   "execution_count": 1,
   "metadata": {},
   "outputs": [],
   "source": [
    "%load_ext autoreload\n",
    "%autoreload 2"
   ]
  },
  {
   "cell_type": "code",
   "execution_count": null,
   "metadata": {},
   "outputs": [],
   "source": [
    "if torch.cuda.is_available():\n",
    "    device = torch.device(\"cuda:0\")  # you can continue going on here, like cuda:1 cuda:2....etc. \n",
    "    print(\"Running on the GPU\")\n",
    "else:\n",
    "    device = torch.device(\"cpu\")\n",
    "    print(\"Running on the CPU\")"
   ]
  },
  {
   "cell_type": "code",
   "execution_count": 15,
   "metadata": {},
   "outputs": [],
   "source": [
    "from embeddings import Embeddings, load_glove_embeddings"
   ]
  },
  {
   "cell_type": "code",
   "execution_count": 16,
   "metadata": {},
   "outputs": [],
   "source": [
    "import os\n",
    "from utils import *\n",
    "from tqdm import tqdm\n",
    "from torch.nn.utils.rnn import (pad_sequence,\n",
    "                                pack_padded_sequence,\n",
    "                                pad_packed_sequence)"
   ]
  },
  {
   "cell_type": "code",
   "execution_count": 48,
   "metadata": {},
   "outputs": [],
   "source": [
    "dim = int(os.environ.get('SM_HP_GLOVE_DIM', 50))\n",
    "max_length = int(os.environ.get('SM_HP_MAX_LENGTH', 30))\n",
    "data_loc = os.environ.get('SM_HP_DATA_LOC', '../data')\n",
    "epochs = int(os.environ.get('SM_HP_EPOCHS', 1))\n",
    "batch = int(os.environ.get('SM_HP_BATCH', 100))\n",
    "\n",
    "lr = float(os.environ.get('SM_HP_LR', 0.01))\n",
    "train_remotely = bool(int(os.environ.get('SM_HP_TRAIN_REMOTELY', 1)))"
   ]
  },
  {
   "cell_type": "code",
   "execution_count": 27,
   "metadata": {
    "collapsed": false,
    "jupyter": {
     "outputs_hidden": false
    },
    "pycharm": {
     "name": "#%%\n"
    }
   },
   "outputs": [
    {
     "data": {
      "text/plain": [
       "400003"
      ]
     },
     "execution_count": 27,
     "metadata": {},
     "output_type": "execute_result"
    }
   ],
   "source": [
    "embeddings = load_glove_embeddings(dim, data_loc)\n",
    "len(embeddings)"
   ]
  },
  {
   "cell_type": "code",
   "execution_count": 28,
   "metadata": {
    "collapsed": false,
    "jupyter": {
     "outputs_hidden": false
    },
    "pycharm": {
     "name": "#%%\n"
    }
   },
   "outputs": [
    {
     "data": {
      "text/plain": [
       "tensor([ 0.4769, -0.0846,  1.4641,  0.0470,  0.1469,  0.5082, -1.2228, -0.2261,\n",
       "         0.1931, -0.2976,  0.2060, -0.7128, -1.6288,  0.1710,  0.7480, -0.0619,\n",
       "        -0.6577,  1.3786, -0.6804, -1.7551,  0.5832,  0.2516, -1.2114,  0.8134,\n",
       "         0.0948, -1.6819, -0.6450,  0.6322,  1.1211,  0.1611,  2.5379,  0.2485,\n",
       "        -0.2682,  0.3282,  1.2916,  0.2355,  0.6147, -0.1344, -0.1324,  0.2740,\n",
       "        -0.1182,  0.1354,  0.0743, -0.6195,  0.4547, -0.3032, -0.2188, -0.5605,\n",
       "         1.1177, -0.3659])"
      ]
     },
     "execution_count": 28,
     "metadata": {},
     "output_type": "execute_result"
    }
   ],
   "source": [
    "embeddings['car']"
   ]
  },
  {
   "cell_type": "code",
   "execution_count": 29,
   "metadata": {
    "collapsed": false,
    "jupyter": {
     "outputs_hidden": false
    },
    "pycharm": {
     "name": "#%%\n"
    }
   },
   "outputs": [],
   "source": [
    "dataset = Oxford2019Dataset(data_loc=os.path.join(data_loc, 'Oxford-2019', 'ALL.txt'))\n",
    "dataset_loader = torch.utils.data.DataLoader(dataset,\n",
    "                                             batch_size=batch, shuffle=True)"
   ]
  },
  {
   "cell_type": "code",
   "execution_count": 30,
   "metadata": {},
   "outputs": [],
   "source": [
    "data = [\n",
    "    (\"sequencer\", \"dna sequencing was carried out using the dye termination kit and an automatic sequencer\", \"an apparatus for determining the sequence of amino acids or other monomers in a biological polymer\"),\n",
    "    (\"order\", \"the templars were also known as the order of christ\", \"a society of knights bound by a common rule of life and having a combined military and monastic character\"),\n",
    "    (\"horde\", \"an army or tribe of nomadic warriors\", \"the viking hordes returned to york this weekend as fierce armoured warriors mingled with the city centre crowds .\"),\n",
    "    (\"anaemic\", \"although it has been thought of as a symptom of iron deficiency , it is more commonly discovered in patients who are not anemic .\", \"suffering from anaemia\")\n",
    "]"
   ]
  },
  {
   "cell_type": "code",
   "execution_count": 31,
   "metadata": {},
   "outputs": [],
   "source": [
    "from itertools import chain\n",
    "\n",
    "from typing import List\n",
    "\n",
    "def to_packed_sequence(items: List[torch.Tensor]):\n",
    "    lens = [len(s) for s in items]\n",
    "    return pack_padded_sequence(pad_sequence(items), lens, enforce_sorted=False)\n",
    "\n",
    "def sentence_to_list(sent):\n",
    "    return chain([Embeddings.SOS_STR], sent.split(), [Embeddings.EOS_STR])\n",
    "\n",
    "def strings_to_batch(strings: List[str]) -> torch.nn.utils.rnn.PackedSequence:\n",
    "    sents_emb = [embeddings.sentence_to_tensor(sentence_to_list(sent)) for sent in strings]\n",
    "    lens = [len(s) for s in sents_emb]\n",
    "    batch = pack_padded_sequence(pad_sequence(sents_emb), lens, enforce_sorted=False)\n",
    "    return batch, lens\n",
    "\n",
    "def strings_to_ids(strings: List[str]) -> List[int]:\n",
    "    ids = [embeddings.sentence_to_ids(sentence_to_list(sent)) for sent in strings]\n",
    "    return to_packed_sequence(ids)\n"
   ]
  },
  {
   "cell_type": "code",
   "execution_count": 32,
   "metadata": {
    "collapsed": false,
    "jupyter": {
     "outputs_hidden": false
    },
    "pycharm": {
     "name": "#%%\n"
    }
   },
   "outputs": [],
   "source": [
    "examples, examples_lens = strings_to_batch([d[1] for d in data])\n",
    "defs, defs_lens = strings_to_batch([d[2] for d in data])\n",
    "defs_ids = strings_to_ids([d[2] for d in data])"
   ]
  },
  {
   "cell_type": "code",
   "execution_count": 33,
   "metadata": {},
   "outputs": [],
   "source": [
    "from wdm import LSTMEncoder, LSTMCellDecoder"
   ]
  },
  {
   "cell_type": "code",
   "execution_count": 34,
   "metadata": {},
   "outputs": [],
   "source": [
    "encoder = LSTMEncoder(dim, dim)\n",
    "# dim*2 because encoder is bidirectional\n",
    "decoder = LSTMCellDecoder(dim, dim*2, len(embeddings))"
   ]
  },
  {
   "cell_type": "code",
   "execution_count": 56,
   "metadata": {},
   "outputs": [],
   "source": [
    "def train(epochs, lr):\n",
    "    criterion = nn.NLLLoss()\n",
    "    log_softmax = nn.LogSoftmax(dim=1)\n",
    "\n",
    "    # encoder_optim = torch.optim.Adam(encoder.parameters())\n",
    "    # decoder_optim = torch.optim.Adam(decoder.parameters())\n",
    "\n",
    "    encoder_optim = torch.optim.SGD(encoder.parameters(), lr=lr)\n",
    "    decoder_optim = torch.optim.SGD(decoder.parameters(), lr=lr)\n",
    "    loss = 0\n",
    "\n",
    "    for i in range(epochs):\n",
    "        epoch_loss = 0\n",
    "        j = 0\n",
    "        for words, defs, examples in tqdm(dataset_loader):\n",
    "            encoder_optim.zero_grad()\n",
    "            decoder_optim.zero_grad()\n",
    "\n",
    "            examples_ps, examples_lens = strings_to_batch(examples)\n",
    "            defs_ps, defs_lens = strings_to_batch(defs)\n",
    "            def_ids = strings_to_ids(defs)\n",
    "\n",
    "            e_out, e_hidden = encoder(examples_ps)\n",
    "\n",
    "            decoder_input = torch.cat((e_hidden[0], e_hidden[1]), dim=1)\n",
    "            # decoder_input = decoder_input[examples.unsorted_indices]  # pytorch will do this automatically\n",
    "            # decoder_input = decoder_input[defs.sorted_indices]  # pytorch will do this automatically\n",
    "            decoder_input = decoder_input.unsqueeze(dim=0)\n",
    "\n",
    "            d_out = decoder(defs_ps, decoder_input)\n",
    "            d_out_lsm = squash_packed(d_out, log_softmax).data\n",
    "\n",
    "            loss = criterion(d_out_lsm, def_ids.data)\n",
    "\n",
    "            loss.backward()\n",
    "\n",
    "            encoder_optim.step()\n",
    "            decoder_optim.step()\n",
    "\n",
    "        print(f'Epoch {i}, loss {loss.item()}')"
   ]
  },
  {
   "cell_type": "code",
   "execution_count": null,
   "metadata": {},
   "outputs": [
    {
     "name": "stderr",
     "output_type": "stream",
     "text": [
      "Parameter image_name will be renamed to image_uri in SageMaker Python SDK v2.\n",
      "'s3_input' class will be renamed to 'TrainingInput' in SageMaker Python SDK v2.\n"
     ]
    },
    {
     "name": "stdout",
     "output_type": "stream",
     "text": [
      "2020-10-26 22:33:21 Starting - Starting the training job...\n",
      "2020-10-26 22:33:23 Starting - Launching requested ML instances......\n",
      "2020-10-26 22:34:32 Starting - Preparing the instances for training......\n",
      "2020-10-26 22:35:42 Downloading - Downloading input data\n",
      "2020-10-26 22:35:42 Training - Downloading the training image............\n",
      "2020-10-26 22:37:43 Training - Training image download completed. Training in progress.\u001b[34m2020-10-26 22:37:46,738 sagemaker-training-toolkit INFO     Invoking user script\n",
      "\u001b[0m\n",
      "\u001b[34mTraining Env:\n",
      "\u001b[0m\n",
      "\u001b[34m{\n",
      "    \"additional_framework_parameters\": {},\n",
      "    \"channel_input_dirs\": {\n",
      "        \"training\": \"/opt/ml/input/data/training\"\n",
      "    },\n",
      "    \"current_host\": \"algo-1\",\n",
      "    \"framework_module\": null,\n",
      "    \"hosts\": [\n",
      "        \"algo-1\"\n",
      "    ],\n",
      "    \"hyperparameters\": {\n",
      "        \"glove_dim\": 50,\n",
      "        \"lr\": 0.01,\n",
      "        \"data_loc\": \"/opt/data\",\n",
      "        \"epochs\": 10,\n",
      "        \"train_remotely\": 0,\n",
      "        \"max_length\": 30\n",
      "    },\n",
      "    \"input_config_dir\": \"/opt/ml/input/config\",\n",
      "    \"input_data_config\": {\n",
      "        \"training\": {\n",
      "            \"TrainingInputMode\": \"File\",\n",
      "            \"S3DistributionType\": \"FullyReplicated\",\n",
      "            \"RecordWrapperType\": \"None\"\n",
      "        }\n",
      "    },\n",
      "    \"input_dir\": \"/opt/ml/input\",\n",
      "    \"is_master\": true,\n",
      "    \"job_name\": \"wdm-1-2020-10-26-22-33-21-353\",\n",
      "    \"log_level\": 20,\n",
      "    \"master_hostname\": \"algo-1\",\n",
      "    \"model_dir\": \"/opt/ml/model\",\n",
      "    \"module_dir\": \"s3://chegg-ds-data/wdm-1-2020-10-26-22-33-21-353/source/sourcedir.tar.gz\",\n",
      "    \"module_name\": \"train.sh\",\n",
      "    \"network_interface_name\": \"eth0\",\n",
      "    \"num_cpus\": 8,\n",
      "    \"num_gpus\": 1,\n",
      "    \"output_data_dir\": \"/opt/ml/output/data\",\n",
      "    \"output_dir\": \"/opt/ml/output\",\n",
      "    \"output_intermediate_dir\": \"/opt/ml/output/intermediate\",\n",
      "    \"resource_config\": {\n",
      "        \"current_host\": \"algo-1\",\n",
      "        \"hosts\": [\n",
      "            \"algo-1\"\n",
      "        ],\n",
      "        \"network_interface_name\": \"eth0\"\n",
      "    },\n",
      "    \"user_entry_point\": \"train.sh\"\u001b[0m\n",
      "\u001b[34m}\n",
      "\u001b[0m\n",
      "\u001b[34mEnvironment variables:\n",
      "\u001b[0m\n",
      "\u001b[34mSM_HOSTS=[\"algo-1\"]\u001b[0m\n",
      "\u001b[34mSM_NETWORK_INTERFACE_NAME=eth0\u001b[0m\n",
      "\u001b[34mSM_HPS={\"data_loc\":\"/opt/data\",\"epochs\":10,\"glove_dim\":50,\"lr\":0.01,\"max_length\":30,\"train_remotely\":0}\u001b[0m\n",
      "\u001b[34mSM_USER_ENTRY_POINT=train.sh\u001b[0m\n",
      "\u001b[34mSM_FRAMEWORK_PARAMS={}\u001b[0m\n",
      "\u001b[34mSM_RESOURCE_CONFIG={\"current_host\":\"algo-1\",\"hosts\":[\"algo-1\"],\"network_interface_name\":\"eth0\"}\u001b[0m\n",
      "\u001b[34mSM_INPUT_DATA_CONFIG={\"training\":{\"RecordWrapperType\":\"None\",\"S3DistributionType\":\"FullyReplicated\",\"TrainingInputMode\":\"File\"}}\u001b[0m\n",
      "\u001b[34mSM_OUTPUT_DATA_DIR=/opt/ml/output/data\u001b[0m\n",
      "\u001b[34mSM_CHANNELS=[\"training\"]\u001b[0m\n",
      "\u001b[34mSM_CURRENT_HOST=algo-1\u001b[0m\n",
      "\u001b[34mSM_MODULE_NAME=train.sh\u001b[0m\n",
      "\u001b[34mSM_LOG_LEVEL=20\u001b[0m\n",
      "\u001b[34mSM_FRAMEWORK_MODULE=\u001b[0m\n",
      "\u001b[34mSM_INPUT_DIR=/opt/ml/input\u001b[0m\n",
      "\u001b[34mSM_INPUT_CONFIG_DIR=/opt/ml/input/config\u001b[0m\n",
      "\u001b[34mSM_OUTPUT_DIR=/opt/ml/output\u001b[0m\n",
      "\u001b[34mSM_NUM_CPUS=8\u001b[0m\n",
      "\u001b[34mSM_NUM_GPUS=1\u001b[0m\n",
      "\u001b[34mSM_MODEL_DIR=/opt/ml/model\u001b[0m\n",
      "\u001b[34mSM_MODULE_DIR=s3://chegg-ds-data/wdm-1-2020-10-26-22-33-21-353/source/sourcedir.tar.gz\u001b[0m\n",
      "\u001b[34mSM_TRAINING_ENV={\"additional_framework_parameters\":{},\"channel_input_dirs\":{\"training\":\"/opt/ml/input/data/training\"},\"current_host\":\"algo-1\",\"framework_module\":null,\"hosts\":[\"algo-1\"],\"hyperparameters\":{\"data_loc\":\"/opt/data\",\"epochs\":10,\"glove_dim\":50,\"lr\":0.01,\"max_length\":30,\"train_remotely\":0},\"input_config_dir\":\"/opt/ml/input/config\",\"input_data_config\":{\"training\":{\"RecordWrapperType\":\"None\",\"S3DistributionType\":\"FullyReplicated\",\"TrainingInputMode\":\"File\"}},\"input_dir\":\"/opt/ml/input\",\"is_master\":true,\"job_name\":\"wdm-1-2020-10-26-22-33-21-353\",\"log_level\":20,\"master_hostname\":\"algo-1\",\"model_dir\":\"/opt/ml/model\",\"module_dir\":\"s3://chegg-ds-data/wdm-1-2020-10-26-22-33-21-353/source/sourcedir.tar.gz\",\"module_name\":\"train.sh\",\"network_interface_name\":\"eth0\",\"num_cpus\":8,\"num_gpus\":1,\"output_data_dir\":\"/opt/ml/output/data\",\"output_dir\":\"/opt/ml/output\",\"output_intermediate_dir\":\"/opt/ml/output/intermediate\",\"resource_config\":{\"current_host\":\"algo-1\",\"hosts\":[\"algo-1\"],\"network_interface_name\":\"eth0\"},\"user_entry_point\":\"train.sh\"}\u001b[0m\n",
      "\u001b[34mSM_USER_ARGS=[\"--data_loc\",\"/opt/data\",\"--epochs\",\"10\",\"--glove_dim\",\"50\",\"--lr\",\"0.01\",\"--max_length\",\"30\",\"--train_remotely\",\"0\"]\u001b[0m\n",
      "\u001b[34mSM_OUTPUT_INTERMEDIATE_DIR=/opt/ml/output/intermediate\u001b[0m\n",
      "\u001b[34mSM_CHANNEL_TRAINING=/opt/ml/input/data/training\u001b[0m\n",
      "\u001b[34mSM_HP_GLOVE_DIM=50\u001b[0m\n",
      "\u001b[34mSM_HP_LR=0.01\u001b[0m\n",
      "\u001b[34mSM_HP_DATA_LOC=/opt/data\u001b[0m\n",
      "\u001b[34mSM_HP_EPOCHS=10\u001b[0m\n",
      "\u001b[34mSM_HP_TRAIN_REMOTELY=0\u001b[0m\n",
      "\u001b[34mSM_HP_MAX_LENGTH=30\u001b[0m\n",
      "\u001b[34mPYTHONPATH=/opt/ml/code:/opt/conda/bin:/opt/conda/lib/python37.zip:/opt/conda/lib/python3.7:/opt/conda/lib/python3.7/lib-dynload:/opt/conda/lib/python3.7/site-packages\n",
      "\u001b[0m\n",
      "\u001b[34mInvoking script with the following command:\n",
      "\u001b[0m\n",
      "\u001b[34m/bin/sh -c ./train.sh --data_loc /opt/data --epochs 10 --glove_dim 50 --lr 0.01 --max_length 30 --train_remotely 0\n",
      "\n",
      "\u001b[0m\n",
      "\u001b[34m[NbConvertApp] Converting notebook main.ipynb to script\u001b[0m\n",
      "\u001b[34m[NbConvertApp] Writing 6662 bytes to main.py\u001b[0m\n",
      "\u001b[34mpandas failed to import. Analytics features will be impaired or broken.\u001b[0m\n",
      "\u001b[34m#015  0%|          | 0/2935 [00:00<?, ?it/s]#015  0%|          | 1/2935 [00:03<2:32:27,  3.12s/it]#015  0%|          | 2/2935 [00:05<2:26:50,  3.00s/it]#015  0%|          | 3/2935 [00:08<2:23:57,  2.95s/it]#015  0%|          | 4/2935 [00:11<2:23:33,  2.94s/it]#015  0%|          | 5/2935 [00:14<2:21:34,  2.90s/it]#015  0%|          | 6/2935 [00:17<2:18:11,  2.83s/it]#015  0%|          | 7/2935 [00:20<2:21:22,  2.90s/it]#015  0%|          | 8/2935 [00:22<2:17:30,  2.82s/it]#015  0%|          | 9/2935 [00:25<2:16:55,  2.81s/it]#015  0%|          | 9/2935 [00:28<2:33:51,  3.16s/it]\u001b[0m\n",
      "\u001b[34m#015  0%|          | 0/2935 [00:00<?, ?it/s]#015  0%|          | 1/2935 [00:02<2:12:21,  2.71s/it]#015  0%|          | 2/2935 [00:05<2:10:28,  2.67s/it]#015  0%|          | 3/2935 [00:07<2:07:56,  2.62s/it]#015  0%|          | 4/2935 [00:10<2:08:13,  2.62s/it]#015  0%|          | 5/2935 [00:13<2:11:01,  2.68s/it]#015  0%|          | 6/2935 [00:16<2:14:36,  2.76s/it]#015  0%|          | 7/2935 [00:18<2:12:40,  2.72s/it]#015  0%|          | 8/2935 [00:21<2:14:39,  2.76s/it]#015  0%|          | 9/2935 [00:24<2:11:49,  2.70s/it]#015  0%|          | 9/2935 [00:27<2:26:22,  3.00s/it]\u001b[0m\n",
      "\u001b[34m#015  0%|          | 0/2935 [00:00<?, ?it/s]#015  0%|          | 1/2935 [00:02<2:16:04,  2.78s/it]#015  0%|          | 2/2935 [00:05<2:15:28,  2.77s/it]#015  0%|          | 3/2935 [00:08<2:16:52,  2.80s/it]#015  0%|          | 4/2935 [00:11<2:15:18,  2.77s/it]#015  0%|          | 5/2935 [00:13<2:14:06,  2.75s/it]#015  0%|          | 6/2935 [00:16<2:13:53,  2.74s/it]#015  0%|          | 7/2935 [00:19<2:17:13,  2.81s/it]#015  0%|          | 8/2935 [00:22<2:16:08,  2.79s/it]#015  0%|          | 9/2935 [00:25<2:18:58,  2.85s/it]#015  0%|          | 9/2935 [00:28<2:31:55,  3.12s/it]\u001b[0m\n"
     ]
    }
   ],
   "source": [
    "import sagemaker\n",
    "from sagemaker.pytorch import PyTorch\n",
    "\n",
    "if train_remotely:\n",
    "    role = sagemaker.get_execution_role()\n",
    "    output_path = f's3://chegg-ds-data/oboiko/wdm-output'\n",
    "\n",
    "    pytorch_estimator = PyTorch(entry_point='train.sh',\n",
    "                                base_job_name='wdm-1',\n",
    "                                role=role,\n",
    "                                train_instance_count=1,\n",
    "                                train_instance_type='ml.g4dn.2xlarge',  # GPU instance\n",
    "                                train_volume_size=50,\n",
    "                                train_max_run=86400,  # 24 hours\n",
    "                                hyperparameters={\n",
    "                                  'glove_dim': 50,\n",
    "                                  'max_length': 30,\n",
    "                                  'data_loc': '/opt/data',\n",
    "                                  'batch': 100,  \n",
    "                                  'epochs': 10,\n",
    "                                  'lr': 0.01,\n",
    "                                  'train_remotely': 0\n",
    "                                },\n",
    "                                framework_version='1.6.0',\n",
    "                                py_version='py3',\n",
    "                                source_dir='.',  # This entire folder will be transferred to training instance\n",
    "                                debugger_hook_config=False,\n",
    "                                output_path=output_path,  # Model files will be uploaded here\n",
    "                                image_name='954558792927.dkr.ecr.us-west-2.amazonaws.com/sagemaker/wdm:latest'\n",
    "                     )\n",
    "\n",
    "    pytorch_estimator.fit('s3://chegg-ds-data/oboiko/wdm/dummy.txt', wait=True)"
   ]
  },
  {
   "cell_type": "code",
   "execution_count": 42,
   "metadata": {},
   "outputs": [],
   "source": [
    "if 'TRAINING_JOB_NAME' in os.environ or not train_remotely:\n",
    "    train(epochs, lr)    "
   ]
  },
  {
   "cell_type": "markdown",
   "metadata": {},
   "source": [
    "TODO: For loss function... instead of doing log_softmax, do MSE with actual GloVe vector and minimize this loss function.\n",
    "Then for BLEU evaluation, you'll need a function to find the closest vector to the one produced by the model.\n",
    "\n",
    "Interesting to compare these results to log_softmax"
   ]
  }
 ],
 "metadata": {
  "kernelspec": {
   "display_name": "conda_pytorch_latest_p36",
   "language": "python",
   "name": "conda_pytorch_latest_p36"
  },
  "language_info": {
   "codemirror_mode": {
    "name": "ipython",
    "version": 3
   },
   "file_extension": ".py",
   "mimetype": "text/x-python",
   "name": "python",
   "nbconvert_exporter": "python",
   "pygments_lexer": "ipython3",
   "version": "3.6.10"
  },
  "toc": {
   "base_numbering": 1,
   "nav_menu": {
    "height": "146.989px",
    "width": "305px"
   },
   "number_sections": true,
   "sideBar": true,
   "skip_h1_title": false,
   "title_cell": "Table of Contents",
   "title_sidebar": "Contents",
   "toc_cell": false,
   "toc_position": {},
   "toc_section_display": true,
   "toc_window_display": false
  }
 },
 "nbformat": 4,
 "nbformat_minor": 4
}
