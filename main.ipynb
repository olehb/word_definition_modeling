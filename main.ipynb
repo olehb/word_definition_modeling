{
 "cells": [
  {
   "cell_type": "code",
   "execution_count": 2,
   "metadata": {},
   "outputs": [
    {
     "name": "stdout",
     "output_type": "stream",
     "text": [
      "The autoreload extension is already loaded. To reload it, use:\n",
      "  %reload_ext autoreload\n"
     ]
    }
   ],
   "source": [
    "%load_ext autoreload\n",
    "%autoreload 2"
   ]
  },
  {
   "cell_type": "code",
   "execution_count": 3,
   "metadata": {},
   "outputs": [],
   "source": [
    "from embeddings import Embeddings, load_glove_embeddings"
   ]
  },
  {
   "cell_type": "code",
   "execution_count": 4,
   "metadata": {},
   "outputs": [],
   "source": [
    "from utils import *\n",
    "from tqdm import tqdm\n",
    "from torch.nn.utils.rnn import (pad_sequence,\n",
    "                                pack_padded_sequence,\n",
    "                                pad_packed_sequence)"
   ]
  },
  {
   "cell_type": "code",
   "execution_count": 5,
   "metadata": {},
   "outputs": [],
   "source": [
    "dim = 50\n",
    "max_length = 50"
   ]
  },
  {
   "cell_type": "code",
   "execution_count": 33,
   "outputs": [
    {
     "data": {
      "text/plain": "400003"
     },
     "execution_count": 33,
     "metadata": {},
     "output_type": "execute_result"
    }
   ],
   "source": [
    "embeddings = load_glove_embeddings(dim)\n",
    "len(embeddings)"
   ],
   "metadata": {
    "collapsed": false,
    "pycharm": {
     "name": "#%%\n"
    }
   }
  },
  {
   "cell_type": "code",
   "execution_count": 31,
   "outputs": [
    {
     "data": {
      "text/plain": "tensor([ 0.4769, -0.0846,  1.4641,  0.0470,  0.1469,  0.5082, -1.2228, -0.2261,\n         0.1931, -0.2976,  0.2060, -0.7128, -1.6288,  0.1710,  0.7480, -0.0619,\n        -0.6577,  1.3786, -0.6804, -1.7551,  0.5832,  0.2516, -1.2114,  0.8134,\n         0.0948, -1.6819, -0.6450,  0.6322,  1.1211,  0.1611,  2.5379,  0.2485,\n        -0.2682,  0.3282,  1.2916,  0.2355,  0.6147, -0.1344, -0.1324,  0.2740,\n        -0.1182,  0.1354,  0.0743, -0.6195,  0.4547, -0.3032, -0.2188, -0.5605,\n         1.1177, -0.3659])"
     },
     "execution_count": 31,
     "metadata": {},
     "output_type": "execute_result"
    }
   ],
   "source": [
    "embeddings['car']"
   ],
   "metadata": {
    "collapsed": false,
    "pycharm": {
     "name": "#%%\n"
    }
   }
  },
  {
   "cell_type": "code",
   "execution_count": 38,
   "outputs": [],
   "source": [
    "dataset = Oxford2019Dataset()\n",
    "dataset_loader = torch.utils.data.DataLoader(dataset,\n",
    "                                             batch_size=100, shuffle=True)"
   ],
   "metadata": {
    "collapsed": false,
    "pycharm": {
     "name": "#%%\n"
    }
   }
  },
  {
   "cell_type": "code",
   "execution_count": 9,
   "metadata": {},
   "outputs": [],
   "source": [
    "data = [\n",
    "    (\"sequencer\", \"dna sequencing was carried out using the dye termination kit and an automatic sequencer\", \"an apparatus for determining the sequence of amino acids or other monomers in a biological polymer\"),\n",
    "    (\"order\", \"the templars were also known as the order of christ\", \"a society of knights bound by a common rule of life and having a combined military and monastic character\"),\n",
    "    (\"horde\", \"an army or tribe of nomadic warriors\", \"the viking hordes returned to york this weekend as fierce armoured warriors mingled with the city centre crowds .\"),\n",
    "    (\"anaemic\", \"although it has been thought of as a symptom of iron deficiency , it is more commonly discovered in patients who are not anemic .\", \"suffering from anaemia\")\n",
    "]"
   ]
  },
  {
   "cell_type": "code",
   "execution_count": 19,
   "metadata": {},
   "outputs": [],
   "source": [
    "from itertools import chain\n",
    "\n",
    "from typing import List\n",
    "\n",
    "def to_packed_sequence(items: List[torch.Tensor]):\n",
    "    lens = [len(s) for s in items]\n",
    "    return pack_padded_sequence(pad_sequence(items), lens, enforce_sorted=False)\n",
    "\n",
    "def sentence_to_list(sent):\n",
    "    return chain([Embeddings.SOS_STR], sent.split(), [Embeddings.EOS_STR])\n",
    "\n",
    "def strings_to_batch(strings: List[str]) -> torch.nn.utils.rnn.PackedSequence:\n",
    "    sents_emb = [embeddings.sentence_to_tensor(sentence_to_list(sent)) for sent in strings]\n",
    "    lens = [len(s) for s in sents_emb]\n",
    "    batch = pack_padded_sequence(pad_sequence(sents_emb), lens, enforce_sorted=False)\n",
    "    return batch, lens\n",
    "\n",
    "def strings_to_ids(strings: List[str]) -> List[int]:\n",
    "    ids = [embeddings.sentence_to_ids(sentence_to_list(sent)) for sent in strings]\n",
    "    return to_packed_sequence(ids)\n"
   ]
  },
  {
   "cell_type": "code",
   "execution_count": 18,
   "outputs": [],
   "source": [
    "examples, examples_lens = strings_to_batch([d[1] for d in data])\n",
    "defs, defs_lens = strings_to_batch([d[2] for d in data])\n",
    "defs_ids = strings_to_ids([d[2] for d in data])"
   ],
   "metadata": {
    "collapsed": false,
    "pycharm": {
     "name": "#%%\n"
    }
   }
  },
  {
   "cell_type": "code",
   "execution_count": 11,
   "metadata": {},
   "outputs": [],
   "source": [
    "from wdm import LSTMEncoder, LSTMCellDecoder"
   ]
  },
  {
   "cell_type": "code",
   "execution_count": 12,
   "metadata": {},
   "outputs": [],
   "source": [
    "encoder = LSTMEncoder(dim, dim)\n",
    "# dim*2 because encoder is bidirectional\n",
    "decoder = LSTMCellDecoder(dim, dim*2, len(embeddings))"
   ]
  },
  {
   "cell_type": "code",
   "execution_count": 39,
   "metadata": {},
   "outputs": [
    {
     "name": "stderr",
     "output_type": "stream",
     "text": [
      "  0%|          | 3/2935 [00:35<9:33:13, 11.73s/it] \n"
     ]
    },
    {
     "name": "stdout",
     "output_type": "stream",
     "text": [
      "         28359 function calls (28324 primitive calls) in 35.194 seconds\n",
      "\n",
      "   Ordered by: standard name\n",
      "\n",
      "   ncalls  tottime  percall  cumtime  percall filename:lineno(function)\n",
      "        3    0.000    0.000    0.000    0.000 <frozen importlib._bootstrap>:1009(_handle_fromlist)\n",
      "     1200    0.001    0.000    0.003    0.000 <ipython-input-19-8a943bfa44b9>:10(sentence_to_list)\n",
      "        8    0.000    0.000    0.243    0.030 <ipython-input-19-8a943bfa44b9>:13(strings_to_batch)\n",
      "        8    0.001    0.000    0.228    0.029 <ipython-input-19-8a943bfa44b9>:14(<listcomp>)\n",
      "        8    0.000    0.000    0.001    0.000 <ipython-input-19-8a943bfa44b9>:15(<listcomp>)\n",
      "        4    0.000    0.000    0.035    0.009 <ipython-input-19-8a943bfa44b9>:19(strings_to_ids)\n",
      "        4    0.000    0.000    0.030    0.008 <ipython-input-19-8a943bfa44b9>:20(<listcomp>)\n",
      "        4    0.000    0.000    0.005    0.001 <ipython-input-19-8a943bfa44b9>:6(to_packed_sequence)\n",
      "        4    0.000    0.000    0.000    0.000 <ipython-input-19-8a943bfa44b9>:7(<listcomp>)\n",
      "        1    0.870    0.870   35.193   35.193 <ipython-input-39-6c6b145dd064>:2(train)\n",
      "        1    0.000    0.000   35.193   35.193 <string>:1(<module>)\n",
      "       27    0.000    0.000    0.000    0.000 <string>:1(__new__)\n",
      "       20    0.000    0.000    0.000    0.000 _VF.py:13(__getattr__)\n",
      "       11    0.000    0.000    0.000    0.000 __init__.py:2277(is_scripting)\n",
      "        3    0.000    0.000    0.000    0.000 __init__.py:25(_make_grads)\n",
      "        3    0.000    0.000   21.052    7.017 __init__.py:57(backward)\n",
      "        1    0.000    0.000    0.000    0.000 _monitor.py:102(report)\n",
      "        1    0.000    0.000    0.000    0.000 _monitor.py:32(__init__)\n",
      "        1    0.001    0.001    0.003    0.003 _monitor.py:50(exit)\n",
      "        4    0.000    0.000    0.000    0.000 _overrides.py:779(has_torch_function)\n",
      "       12    0.000    0.000    0.000    0.000 _overrides.py:792(<genexpr>)\n",
      "        3    0.000    0.000    0.000    0.000 _reduction.py:7(get_enum)\n",
      "        1    0.000    0.000    0.001    0.001 _weakrefset.py:106(remove)\n",
      "        2    0.000    0.000    0.000    0.000 _weakrefset.py:16(__init__)\n",
      "        2    0.000    0.000    0.000    0.000 _weakrefset.py:20(__enter__)\n",
      "        2    0.000    0.000    0.000    0.000 _weakrefset.py:26(__exit__)\n",
      "        2    0.000    0.000    0.000    0.000 _weakrefset.py:52(_commit_removals)\n",
      "        3    0.000    0.000    0.000    0.000 _weakrefset.py:58(__iter__)\n",
      "        1    0.000    0.000    0.000    0.000 _weakrefset.py:67(__len__)\n",
      "        2    0.000    0.000    0.000    0.000 _weakrefset.py:81(add)\n",
      "        8    0.000    0.000    0.000    0.000 abc.py:137(__instancecheck__)\n",
      "        1    0.000    0.000    0.000    0.000 activation.py:1201(__init__)\n",
      "        4    0.000    0.000    7.670    1.918 activation.py:1210(forward)\n",
      "     16/4    0.000    0.000    0.031    0.008 collate.py:42(default_collate)\n",
      "      400    0.000    0.000    0.000    0.000 collate.py:81(<genexpr>)\n",
      "        4    0.030    0.008    0.030    0.008 collate.py:84(<listcomp>)\n",
      "        1    0.000    0.000    0.000    0.000 dataloader.py:287(__iter__)\n",
      "        3    0.000    0.000    0.000    0.000 dataloader.py:293(_auto_collation)\n",
      "        2    0.000    0.000    0.000    0.000 dataloader.py:297(_index_sampler)\n",
      "        1    0.000    0.000    0.000    0.000 dataloader.py:309(__len__)\n",
      "        1    0.000    0.000    0.000    0.000 dataloader.py:338(__init__)\n",
      "        4    0.000    0.000    0.016    0.004 dataloader.py:356(_next_index)\n",
      "        1    0.000    0.000    0.000    0.000 dataloader.py:36(create_fetcher)\n",
      "        4    0.000    0.000    0.135    0.034 dataloader.py:362(__next__)\n",
      "        1    0.000    0.000    0.000    0.000 dataloader.py:393(__init__)\n",
      "        4    0.000    0.000    0.135    0.034 dataloader.py:401(_next_data)\n",
      "      800    0.001    0.000    0.225    0.000 embeddings.py:20(sentence_to_tensor)\n",
      "      800    0.003    0.000    0.093    0.000 embeddings.py:21(<listcomp>)\n",
      "      400    0.001    0.000    0.029    0.000 embeddings.py:25(sentence_to_ids)\n",
      "      400    0.026    0.000    0.026    0.000 embeddings.py:28(<listcomp>)\n",
      "    10737    0.090    0.000    0.090    0.000 embeddings.py:35(__getitem__)\n",
      "        1    0.000    0.000    0.000    0.000 fetch.py:39(__init__)\n",
      "        4    0.000    0.000    0.119    0.030 fetch.py:42(fetch)\n",
      "        4    0.000    0.000    0.089    0.022 fetch.py:44(<listcomp>)\n",
      "        1    0.000    0.000    0.000    0.000 fetch.py:8(__init__)\n",
      "        4    0.110    0.027    7.670    1.918 functional.py:1567(log_softmax)\n",
      "        4    0.000    0.000    4.817    1.204 functional.py:1655(linear)\n",
      "        4    0.000    0.000    0.000    0.000 functional.py:1670(<listcomp>)\n",
      "        3    0.000    0.000    0.045    0.015 functional.py:2158(nll_loss)\n",
      "        3    0.000    0.000    0.000    0.000 functional.py:2204(<listcomp>)\n",
      "        6    0.000    0.000    0.106    0.018 grad_mode.py:12(decorate_context)\n",
      "        6    0.000    0.000    0.000    0.000 grad_mode.py:149(__init__)\n",
      "        6    0.000    0.000    0.000    0.000 grad_mode.py:65(__enter__)\n",
      "        6    0.000    0.000    0.000    0.000 grad_mode.py:69(__exit__)\n",
      "       23    0.000    0.000    0.001    0.000 iostream.py:197(schedule)\n",
      "        7    0.000    0.000    0.000    0.000 iostream.py:310(_is_master_process)\n",
      "        7    0.000    0.000    0.000    0.000 iostream.py:323(_schedule_flush)\n",
      "        5    0.000    0.000    0.005    0.001 iostream.py:337(flush)\n",
      "        7    0.000    0.000    0.001    0.000 iostream.py:386(write)\n",
      "       23    0.000    0.000    0.000    0.000 iostream.py:93(_event_pipe)\n",
      "        4    0.000    0.000    4.817    1.204 linear.py:90(forward)\n",
      "        1    0.000    0.000    0.000    0.000 loss.py:14(__init__)\n",
      "        1    0.000    0.000    0.000    0.000 loss.py:205(__init__)\n",
      "        3    0.000    0.000    0.045    0.015 loss.py:210(forward)\n",
      "        1    0.000    0.000    0.000    0.000 loss.py:23(__init__)\n",
      "       16    0.000    0.000    0.000    0.000 module.py:1048(_named_members)\n",
      "       16    0.000    0.000    0.000    0.000 module.py:1061(parameters)\n",
      "       16    0.000    0.000    0.000    0.000 module.py:1085(named_parameters)\n",
      "        5    0.000    0.000    0.000    0.000 module.py:1106(<lambda>)\n",
      "     13/7    0.000    0.000    0.000    0.000 module.py:1215(named_modules)\n",
      "        2    0.000    0.000    0.000    0.000 module.py:202(__init__)\n",
      "        1    0.000    0.000    0.000    0.000 module.py:237(register_buffer)\n",
      "    27/15    0.001    0.000   12.652    0.843 module.py:710(_call_impl)\n",
      "       24    0.000    0.000    0.000    0.000 module.py:758(__getattr__)\n",
      "       23    0.000    0.000    0.000    0.000 module.py:774(__setattr__)\n",
      "        8    0.000    0.000    0.059    0.007 optimizer.py:166(zero_grad)\n",
      "        2    0.000    0.000    0.000    0.000 optimizer.py:187(add_param_group)\n",
      "        2    0.000    0.000    0.000    0.000 optimizer.py:32(__init__)\n",
      "        1    0.000    0.000    0.000    0.000 os.py:676(__getitem__)\n",
      "        1    0.000    0.000    0.000    0.000 os.py:754(encode)\n",
      "       39    0.000    0.000    0.001    0.000 rnn.py:152(_packed_sequence_init_args)\n",
      "        8    0.000    0.000    0.000    0.000 rnn.py:170(check_input)\n",
      "       12    0.000    0.000    0.001    0.000 rnn.py:179(_packed_sequence_init)\n",
      "        8    0.000    0.000    0.000    0.000 rnn.py:181(get_expected_hidden_size)\n",
      "       12    0.000    0.000    0.000    0.000 rnn.py:186(invert_permutation)\n",
      "       16    0.000    0.000    0.000    0.000 rnn.py:192(check_hidden_size)\n",
      "       12    0.000    0.000    0.006    0.001 rnn.py:196(pack_padded_sequence)\n",
      "       24    0.000    0.000    0.001    0.000 rnn.py:20(apply_permutation)\n",
      "       12    0.009    0.001    0.011    0.001 rnn.py:318(pad_sequence)\n",
      "       12    0.000    0.000    0.000    0.000 rnn.py:360(<listcomp>)\n",
      "        8    0.000    0.000    0.000    0.000 rnn.py:524(check_forward_args)\n",
      "       12    0.000    0.000    0.001    0.000 rnn.py:533(permute_hidden)\n",
      "        8    0.000    0.000    0.118    0.015 rnn.py:550(forward)\n",
      "       27    0.000    0.000    0.000    0.000 rnn.py:59(__new__)\n",
      "        1    0.000    0.000    0.015    0.015 sampler.py:105(__iter__)\n",
      "        1    0.000    0.000    0.000    0.000 sampler.py:112(__len__)\n",
      "        5    0.026    0.005    0.042    0.008 sampler.py:206(__iter__)\n",
      "        1    0.000    0.000    0.000    0.000 sampler.py:216(__len__)\n",
      "        1    0.000    0.000    0.000    0.000 sampler.py:98(num_samples)\n",
      "        2    0.000    0.000    0.000    0.000 sgd.py:55(__init__)\n",
      "        6    0.000    0.000    0.106    0.018 sgd.py:75(step)\n",
      "       23    0.000    0.000    0.000    0.000 socket.py:342(send)\n",
      "        1    0.000    0.000    0.000    0.000 std.py:1086(__del__)\n",
      "        5    0.000    0.000    0.001    0.000 std.py:1089(__repr__)\n",
      "        2    0.000    0.000    0.000    0.000 std.py:1092(_comparable)\n",
      "        2    0.000    0.000    0.000    0.000 std.py:1096(__hash__)\n",
      "        5    0.000    0.000    0.175    0.035 std.py:1099(__iter__)\n",
      "        2    0.000    0.000    0.007    0.004 std.py:1261(close)\n",
      "        2    0.000    0.000    0.000    0.000 std.py:1278(fp_write)\n",
      "        4    0.000    0.000    0.007    0.002 std.py:1317(refresh)\n",
      "        5    0.001    0.000    0.001    0.000 std.py:1430(format_dict)\n",
      "        5    0.000    0.000    0.008    0.002 std.py:1447(display)\n",
      "        5    0.000    0.000    0.000    0.000 std.py:145(__init__)\n",
      "        5    0.000    0.000    0.000    0.000 std.py:154(__format__)\n",
      "        9    0.000    0.000    0.000    0.000 std.py:227(format_interval)\n",
      "        5    0.000    0.000    0.000    0.000 std.py:268(ema)\n",
      "        1    0.000    0.000    0.000    0.000 std.py:287(status_printer)\n",
      "        5    0.000    0.000    0.006    0.001 std.py:297(fp_write)\n",
      "        5    0.000    0.000    0.007    0.001 std.py:303(print_status)\n",
      "        5    0.000    0.000    0.001    0.000 std.py:310(format_meter)\n",
      "        1    0.000    0.000    0.000    0.000 std.py:511(__new__)\n",
      "        1    0.000    0.000    0.000    0.000 std.py:533(_get_free_pos)\n",
      "        1    0.000    0.000    0.000    0.000 std.py:536(<genexpr>)\n",
      "        1    0.002    0.002    0.006    0.006 std.py:540(_decr_instances)\n",
      "        1    0.000    0.000    0.000    0.000 std.py:623(get_lock)\n",
      "        1    0.000    0.000    0.001    0.001 std.py:797(__init__)\n",
      "        8    0.000    0.000    0.000    0.000 std.py:87(acquire)\n",
      "        8    0.000    0.000    0.000    0.000 std.py:91(release)\n",
      "        4    0.000    0.000    0.000    0.000 std.py:95(__enter__)\n",
      "        4    0.000    0.000    0.000    0.000 std.py:98(__exit__)\n",
      "        3    0.000    0.000   21.052    7.017 tensor.py:155(backward)\n",
      "     1200    0.000    0.000    0.001    0.000 tensor.py:443(__len__)\n",
      "       42    0.000    0.000    0.000    0.000 tensor.py:458(__hash__)\n",
      "      252    0.000    0.000    0.000    0.000 tensor.py:725(grad)\n",
      "        1    0.001    0.001    0.002    0.002 threading.py:1012(join)\n",
      "       29    0.000    0.000    0.001    0.000 threading.py:1050(_wait_for_tstate_lock)\n",
      "       28    0.000    0.000    0.000    0.000 threading.py:1092(is_alive)\n",
      "        2    0.000    0.000    0.000    0.000 threading.py:1116(daemon)\n",
      "        1    0.000    0.000    0.000    0.000 threading.py:1131(daemon)\n",
      "        3    0.000    0.000    0.000    0.000 threading.py:1225(current_thread)\n",
      "        7    0.000    0.000    0.000    0.000 threading.py:216(__init__)\n",
      "        7    0.000    0.000    0.000    0.000 threading.py:240(__enter__)\n",
      "        7    0.000    0.000    0.000    0.000 threading.py:243(__exit__)\n",
      "        6    0.000    0.000    0.000    0.000 threading.py:249(_release_save)\n",
      "        6    0.000    0.000    0.000    0.000 threading.py:252(_acquire_restore)\n",
      "        7    0.000    0.000    0.000    0.000 threading.py:255(_is_owned)\n",
      "        6    0.000    0.000    0.005    0.001 threading.py:264(wait)\n",
      "        1    0.001    0.001    0.001    0.001 threading.py:335(notify)\n",
      "        1    0.000    0.000    0.001    0.001 threading.py:358(notify_all)\n",
      "        7    0.000    0.000    0.000    0.000 threading.py:499(__init__)\n",
      "       32    0.000    0.000    0.000    0.000 threading.py:507(is_set)\n",
      "        1    0.000    0.000    0.001    0.001 threading.py:513(set)\n",
      "        6    0.000    0.000    0.005    0.001 threading.py:534(wait)\n",
      "        1    0.000    0.000    0.000    0.000 threading.py:728(_newname)\n",
      "        1    0.000    0.000    0.000    0.000 threading.py:763(__init__)\n",
      "        1    0.000    0.000    0.000    0.000 threading.py:834(start)\n",
      "        1    0.001    0.001    0.001    0.001 threading.py:977(_stop)\n",
      "        5    0.000    0.000    0.000    0.000 utils.py:140(__init__)\n",
      "        5    0.000    0.000    0.000    0.000 utils.py:144(__format__)\n",
      "        1    0.000    0.000    0.000    0.000 utils.py:157(__eq__)\n",
      "        2    0.000    0.000    0.000    0.000 utils.py:23(__len__)\n",
      "        1    0.000    0.000    0.000    0.000 utils.py:241(_is_utf)\n",
      "        1    0.000    0.000    0.000    0.000 utils.py:255(_supports_unicode)\n",
      "      400    0.088    0.000    0.088    0.000 utils.py:26(__getitem__)\n",
      "       10    0.000    0.000    0.000    0.000 utils.py:262(_is_ascii)\n",
      "        1    0.000    0.000    0.000    0.000 utils.py:271(_screen_shape_wrapper)\n",
      "        8    0.000    0.000   12.488    1.561 utils.py:30(squash_packed)\n",
      "        1    0.000    0.000    0.000    0.000 utils.py:321(_screen_shape_linux)\n",
      "        1    0.000    0.000    0.000    0.000 utils.py:335(<listcomp>)\n",
      "        5    0.000    0.000    0.000    0.000 utils.py:368(_text_width)\n",
      "      247    0.000    0.000    0.000    0.000 utils.py:370(<genexpr>)\n",
      "        5    0.000    0.000    0.000    0.000 utils.py:373(disp_len)\n",
      "        4    0.000    0.000    0.077    0.019 wdm.py:13(forward)\n",
      "        4    0.000    0.000    4.859    1.215 wdm.py:26(forward)\n",
      "       28    0.000    0.000    0.000    0.000 {built-in method __new__ of type object at 0x10aace568}\n",
      "        8    0.000    0.000    0.000    0.000 {built-in method _abc._abc_instancecheck}\n",
      "        5    0.000    0.000    0.000    0.000 {built-in method _imp.lock_held}\n",
      "       12    0.002    0.000    0.002    0.000 {built-in method _pack_padded_sequence}\n",
      "       13    0.000    0.000    0.000    0.000 {built-in method _thread.allocate_lock}\n",
      "        3    0.000    0.000    0.000    0.000 {built-in method _thread.get_ident}\n",
      "        1    0.000    0.000    0.000    0.000 {built-in method _thread.start_new_thread}\n",
      "        4    4.817    1.204    4.817    1.204 {built-in method addmm}\n",
      "       12    0.000    0.000    0.000    0.000 {built-in method arange}\n",
      "       12    0.000    0.000    0.000    0.000 {built-in method as_tensor}\n",
      "        1    0.000    0.000    0.000    0.000 {built-in method atexit.register}\n",
      "        7    0.000    0.000    0.000    0.000 {built-in method builtins.abs}\n",
      "        4    0.000    0.000    0.000    0.000 {built-in method builtins.all}\n",
      "       11    0.000    0.000    0.000    0.000 {built-in method builtins.any}\n",
      "       23    0.000    0.000    0.000    0.000 {built-in method builtins.divmod}\n",
      "        1    0.001    0.001   35.194   35.194 {built-in method builtins.exec}\n",
      "       23    0.000    0.000    0.000    0.000 {built-in method builtins.getattr}\n",
      "      273    0.000    0.000    0.000    0.000 {built-in method builtins.hasattr}\n",
      "       44    0.000    0.000    0.000    0.000 {built-in method builtins.id}\n",
      "      187    0.000    0.000    0.000    0.000 {built-in method builtins.isinstance}\n",
      "        6    0.000    0.000    0.000    0.000 {built-in method builtins.iter}\n",
      "2085/2080    0.000    0.000    0.001    0.000 {built-in method builtins.len}\n",
      "       17    0.000    0.000    0.000    0.000 {built-in method builtins.max}\n",
      "        1    0.000    0.000    0.000    0.000 {built-in method builtins.min}\n",
      "        8    0.000    0.000    0.016    0.002 {built-in method builtins.next}\n",
      "      105    0.000    0.000    0.000    0.000 {built-in method builtins.ord}\n",
      "        5    0.000    0.000    0.000    0.000 {built-in method builtins.sum}\n",
      "        4    0.000    0.000    0.000    0.000 {built-in method cat}\n",
      "       12    0.000    0.000    0.000    0.000 {built-in method empty_like}\n",
      "        1    0.000    0.000    0.000    0.000 {built-in method empty}\n",
      "        1    0.000    0.000    0.000    0.000 {built-in method fcntl.ioctl}\n",
      "        8    0.116    0.014    0.116    0.014 {built-in method lstm}\n",
      "        3    0.000    0.000    0.000    0.000 {built-in method ones_like}\n",
      "        7    0.000    0.000    0.000    0.000 {built-in method posix.getpid}\n",
      "        1    0.009    0.009    0.009    0.009 {built-in method randperm}\n",
      "       12    0.000    0.000    0.000    0.000 {built-in method sort}\n",
      "      800    0.131    0.000    0.131    0.000 {built-in method stack}\n",
      "      400    0.003    0.000    0.003    0.000 {built-in method tensor}\n",
      "       11    0.000    0.000    0.000    0.000 {built-in method time.time}\n",
      "       39    0.000    0.000    0.000    0.000 {built-in method torch._C._get_tracing_state}\n",
      "        4    0.000    0.000    0.000    0.000 {built-in method torch._C._log_api_usage_once}\n",
      "        3    0.045    0.015    0.045    0.015 {built-in method torch._C._nn.nll_loss}\n",
      "       12    0.000    0.000    0.000    0.000 {built-in method torch._C.is_grad_enabled}\n",
      "       12    0.000    0.000    0.000    0.000 {built-in method torch._C.set_grad_enabled}\n",
      "      242    0.000    0.000    0.000    0.000 {built-in method unicodedata.east_asian_width}\n",
      "        8    0.000    0.000    0.000    0.000 {built-in method zeros}\n",
      "        7    0.000    0.000    0.000    0.000 {method '__enter__' of '_thread.lock' objects}\n",
      "        7    0.000    0.000    0.000    0.000 {method '__exit__' of '_thread.lock' objects}\n",
      "        8    0.000    0.000    0.000    0.000 {method 'acquire' of '_multiprocessing.SemLock' objects}\n",
      "        8    0.000    0.000    0.000    0.000 {method 'acquire' of '_thread.RLock' objects}\n",
      "       54    0.005    0.000    0.005    0.000 {method 'acquire' of '_thread.lock' objects}\n",
      "       23    0.000    0.000    0.000    0.000 {method 'add' of 'set' objects}\n",
      "       42    0.105    0.003    0.105    0.003 {method 'add_' of 'torch._C._TensorBase' objects}\n",
      "       29    0.000    0.000    0.000    0.000 {method 'append' of 'collections.deque' objects}\n",
      "      405    0.000    0.000    0.000    0.000 {method 'append' of 'list' objects}\n",
      "       56    0.000    0.000    0.000    0.000 {method 'detach_' of 'torch._C._TensorBase' objects}\n",
      "        1    0.000    0.000    0.000    0.000 {method 'difference' of 'set' objects}\n",
      "     1215    0.000    0.000    0.000    0.000 {method 'dim' of 'torch._C._TensorBase' objects}\n",
      "        1    0.000    0.000    0.000    0.000 {method 'disable' of '_lsprof.Profiler' objects}\n",
      "        1    0.000    0.000    0.000    0.000 {method 'discard' of 'set' objects}\n",
      "        2    0.000    0.000    0.000    0.000 {method 'encode' of 'str' objects}\n",
      "       38    0.000    0.000    0.000    0.000 {method 'format' of 'str' objects}\n",
      "       69    0.000    0.000    0.000    0.000 {method 'get' of 'dict' objects}\n",
      "       36    0.003    0.000    0.003    0.000 {method 'index_select' of 'torch._C._TensorBase' objects}\n",
      "        2    0.000    0.000    0.000    0.000 {method 'isdisjoint' of 'set' objects}\n",
      "        1    0.000    0.000    0.000    0.000 {method 'item' of 'torch._C._TensorBase' objects}\n",
      "       10    0.000    0.000    0.000    0.000 {method 'items' of 'collections.OrderedDict' objects}\n",
      "        2    0.000    0.000    0.000    0.000 {method 'items' of 'dict' objects}\n",
      "        1    0.000    0.000    0.000    0.000 {method 'locked' of '_thread.lock' objects}\n",
      "        4    7.561    1.890    7.561    1.890 {method 'log_softmax' of 'torch._C._TensorBase' objects}\n",
      "       12    0.001    0.000    0.001    0.000 {method 'new_full' of 'torch._C._TensorBase' objects}\n",
      "       15    0.000    0.000    0.000    0.000 {method 'numel' of 'torch._C._TensorBase' objects}\n",
      "        1    0.000    0.000    0.000    0.000 {method 'random_' of 'torch._C._TensorBase' objects}\n",
      "        8    0.000    0.000    0.000    0.000 {method 'release' of '_multiprocessing.SemLock' objects}\n",
      "        8    0.000    0.000    0.000    0.000 {method 'release' of '_thread.RLock' objects}\n",
      "        8    0.000    0.000    0.000    0.000 {method 'release' of '_thread.lock' objects}\n",
      "        1    0.000    0.000    0.000    0.000 {method 'remove' of 'collections.deque' objects}\n",
      "        3    0.001    0.000    0.001    0.000 {method 'remove' of 'set' objects}\n",
      "        3   21.051    7.017   21.051    7.017 {method 'run_backward' of 'torch._C._EngineBase' objects}\n",
      "       12    0.000    0.000    0.000    0.000 {method 'scatter_' of 'torch._C._TensorBase' objects}\n",
      "       10    0.000    0.000    0.000    0.000 {method 'setdefault' of 'dict' objects}\n",
      "     2442    0.001    0.000    0.001    0.000 {method 'size' of 'torch._C._TensorBase' objects}\n",
      "     1200    0.002    0.000    0.002    0.000 {method 'split' of 'str' objects}\n",
      "        5    0.000    0.000    0.000    0.000 {method 'sub' of 're.Pattern' objects}\n",
      "        4    0.000    0.000    0.000    0.000 {method 't' of 'torch._C._TensorBase' objects}\n",
      "       12    0.000    0.000    0.000    0.000 {method 'to' of 'torch._C._TensorBase' objects}\n",
      "        1    0.007    0.007    0.007    0.007 {method 'tolist' of 'torch._C._TensorBase' objects}\n",
      "        4    0.000    0.000    0.000    0.000 {method 'unsqueeze' of 'torch._C._TensorBase' objects}\n",
      "        5    0.000    0.000    0.000    0.000 {method 'update' of 'dict' objects}\n",
      "      106    0.000    0.000    0.000    0.000 {method 'values' of 'collections.OrderedDict' objects}\n",
      "       56    0.058    0.001    0.058    0.001 {method 'zero_' of 'torch._C._TensorBase' objects}\n",
      "\n",
      "\n"
     ]
    },
    {
     "ename": "KeyboardInterrupt",
     "evalue": "",
     "output_type": "error",
     "traceback": [
      "\u001B[0;31m---------------------------------------------------------------------------\u001B[0m",
      "\u001B[0;31mKeyboardInterrupt\u001B[0m                         Traceback (most recent call last)",
      "\u001B[0;32m<ipython-input-39-6c6b145dd064>\u001B[0m in \u001B[0;36m<module>\u001B[0;34m()\u001B[0m\n\u001B[1;32m     48\u001B[0m \u001B[0;34m\u001B[0m\u001B[0m\n\u001B[1;32m     49\u001B[0m \u001B[0;32mimport\u001B[0m \u001B[0mcProfile\u001B[0m\u001B[0;34m\u001B[0m\u001B[0;34m\u001B[0m\u001B[0m\n\u001B[0;32m---> 50\u001B[0;31m \u001B[0mcProfile\u001B[0m\u001B[0;34m.\u001B[0m\u001B[0mrun\u001B[0m\u001B[0;34m(\u001B[0m\u001B[0;34m'train()'\u001B[0m\u001B[0;34m)\u001B[0m\u001B[0;34m\u001B[0m\u001B[0;34m\u001B[0m\u001B[0m\n\u001B[0m\u001B[1;32m     51\u001B[0m \u001B[0;34m\u001B[0m\u001B[0m\n",
      "\u001B[0;32m/Users/oboiko/opt/miniconda3/envs/S37/lib/python3.7/cProfile.py\u001B[0m in \u001B[0;36mrun\u001B[0;34m(statement, filename, sort)\u001B[0m\n\u001B[1;32m     14\u001B[0m \u001B[0;34m\u001B[0m\u001B[0m\n\u001B[1;32m     15\u001B[0m \u001B[0;32mdef\u001B[0m \u001B[0mrun\u001B[0m\u001B[0;34m(\u001B[0m\u001B[0mstatement\u001B[0m\u001B[0;34m,\u001B[0m \u001B[0mfilename\u001B[0m\u001B[0;34m=\u001B[0m\u001B[0;32mNone\u001B[0m\u001B[0;34m,\u001B[0m \u001B[0msort\u001B[0m\u001B[0;34m=\u001B[0m\u001B[0;34m-\u001B[0m\u001B[0;36m1\u001B[0m\u001B[0;34m)\u001B[0m\u001B[0;34m:\u001B[0m\u001B[0;34m\u001B[0m\u001B[0;34m\u001B[0m\u001B[0m\n\u001B[0;32m---> 16\u001B[0;31m     \u001B[0;32mreturn\u001B[0m \u001B[0m_pyprofile\u001B[0m\u001B[0;34m.\u001B[0m\u001B[0m_Utils\u001B[0m\u001B[0;34m(\u001B[0m\u001B[0mProfile\u001B[0m\u001B[0;34m)\u001B[0m\u001B[0;34m.\u001B[0m\u001B[0mrun\u001B[0m\u001B[0;34m(\u001B[0m\u001B[0mstatement\u001B[0m\u001B[0;34m,\u001B[0m \u001B[0mfilename\u001B[0m\u001B[0;34m,\u001B[0m \u001B[0msort\u001B[0m\u001B[0;34m)\u001B[0m\u001B[0;34m\u001B[0m\u001B[0;34m\u001B[0m\u001B[0m\n\u001B[0m\u001B[1;32m     17\u001B[0m \u001B[0;34m\u001B[0m\u001B[0m\n\u001B[1;32m     18\u001B[0m \u001B[0;32mdef\u001B[0m \u001B[0mrunctx\u001B[0m\u001B[0;34m(\u001B[0m\u001B[0mstatement\u001B[0m\u001B[0;34m,\u001B[0m \u001B[0mglobals\u001B[0m\u001B[0;34m,\u001B[0m \u001B[0mlocals\u001B[0m\u001B[0;34m,\u001B[0m \u001B[0mfilename\u001B[0m\u001B[0;34m=\u001B[0m\u001B[0;32mNone\u001B[0m\u001B[0;34m,\u001B[0m \u001B[0msort\u001B[0m\u001B[0;34m=\u001B[0m\u001B[0;34m-\u001B[0m\u001B[0;36m1\u001B[0m\u001B[0;34m)\u001B[0m\u001B[0;34m:\u001B[0m\u001B[0;34m\u001B[0m\u001B[0;34m\u001B[0m\u001B[0m\n",
      "\u001B[0;32m/Users/oboiko/opt/miniconda3/envs/S37/lib/python3.7/profile.py\u001B[0m in \u001B[0;36mrun\u001B[0;34m(self, statement, filename, sort)\u001B[0m\n\u001B[1;32m     51\u001B[0m         \u001B[0mprof\u001B[0m \u001B[0;34m=\u001B[0m \u001B[0mself\u001B[0m\u001B[0;34m.\u001B[0m\u001B[0mprofiler\u001B[0m\u001B[0;34m(\u001B[0m\u001B[0;34m)\u001B[0m\u001B[0;34m\u001B[0m\u001B[0;34m\u001B[0m\u001B[0m\n\u001B[1;32m     52\u001B[0m         \u001B[0;32mtry\u001B[0m\u001B[0;34m:\u001B[0m\u001B[0;34m\u001B[0m\u001B[0;34m\u001B[0m\u001B[0m\n\u001B[0;32m---> 53\u001B[0;31m             \u001B[0mprof\u001B[0m\u001B[0;34m.\u001B[0m\u001B[0mrun\u001B[0m\u001B[0;34m(\u001B[0m\u001B[0mstatement\u001B[0m\u001B[0;34m)\u001B[0m\u001B[0;34m\u001B[0m\u001B[0;34m\u001B[0m\u001B[0m\n\u001B[0m\u001B[1;32m     54\u001B[0m         \u001B[0;32mexcept\u001B[0m \u001B[0mSystemExit\u001B[0m\u001B[0;34m:\u001B[0m\u001B[0;34m\u001B[0m\u001B[0;34m\u001B[0m\u001B[0m\n\u001B[1;32m     55\u001B[0m             \u001B[0;32mpass\u001B[0m\u001B[0;34m\u001B[0m\u001B[0;34m\u001B[0m\u001B[0m\n",
      "\u001B[0;32m/Users/oboiko/opt/miniconda3/envs/S37/lib/python3.7/cProfile.py\u001B[0m in \u001B[0;36mrun\u001B[0;34m(self, cmd)\u001B[0m\n\u001B[1;32m     93\u001B[0m         \u001B[0;32mimport\u001B[0m \u001B[0m__main__\u001B[0m\u001B[0;34m\u001B[0m\u001B[0;34m\u001B[0m\u001B[0m\n\u001B[1;32m     94\u001B[0m         \u001B[0mdict\u001B[0m \u001B[0;34m=\u001B[0m \u001B[0m__main__\u001B[0m\u001B[0;34m.\u001B[0m\u001B[0m__dict__\u001B[0m\u001B[0;34m\u001B[0m\u001B[0;34m\u001B[0m\u001B[0m\n\u001B[0;32m---> 95\u001B[0;31m         \u001B[0;32mreturn\u001B[0m \u001B[0mself\u001B[0m\u001B[0;34m.\u001B[0m\u001B[0mrunctx\u001B[0m\u001B[0;34m(\u001B[0m\u001B[0mcmd\u001B[0m\u001B[0;34m,\u001B[0m \u001B[0mdict\u001B[0m\u001B[0;34m,\u001B[0m \u001B[0mdict\u001B[0m\u001B[0;34m)\u001B[0m\u001B[0;34m\u001B[0m\u001B[0;34m\u001B[0m\u001B[0m\n\u001B[0m\u001B[1;32m     96\u001B[0m \u001B[0;34m\u001B[0m\u001B[0m\n\u001B[1;32m     97\u001B[0m     \u001B[0;32mdef\u001B[0m \u001B[0mrunctx\u001B[0m\u001B[0;34m(\u001B[0m\u001B[0mself\u001B[0m\u001B[0;34m,\u001B[0m \u001B[0mcmd\u001B[0m\u001B[0;34m,\u001B[0m \u001B[0mglobals\u001B[0m\u001B[0;34m,\u001B[0m \u001B[0mlocals\u001B[0m\u001B[0;34m)\u001B[0m\u001B[0;34m:\u001B[0m\u001B[0;34m\u001B[0m\u001B[0;34m\u001B[0m\u001B[0m\n",
      "\u001B[0;32m/Users/oboiko/opt/miniconda3/envs/S37/lib/python3.7/cProfile.py\u001B[0m in \u001B[0;36mrunctx\u001B[0;34m(self, cmd, globals, locals)\u001B[0m\n\u001B[1;32m     98\u001B[0m         \u001B[0mself\u001B[0m\u001B[0;34m.\u001B[0m\u001B[0menable\u001B[0m\u001B[0;34m(\u001B[0m\u001B[0;34m)\u001B[0m\u001B[0;34m\u001B[0m\u001B[0;34m\u001B[0m\u001B[0m\n\u001B[1;32m     99\u001B[0m         \u001B[0;32mtry\u001B[0m\u001B[0;34m:\u001B[0m\u001B[0;34m\u001B[0m\u001B[0;34m\u001B[0m\u001B[0m\n\u001B[0;32m--> 100\u001B[0;31m             \u001B[0mexec\u001B[0m\u001B[0;34m(\u001B[0m\u001B[0mcmd\u001B[0m\u001B[0;34m,\u001B[0m \u001B[0mglobals\u001B[0m\u001B[0;34m,\u001B[0m \u001B[0mlocals\u001B[0m\u001B[0;34m)\u001B[0m\u001B[0;34m\u001B[0m\u001B[0;34m\u001B[0m\u001B[0m\n\u001B[0m\u001B[1;32m    101\u001B[0m         \u001B[0;32mfinally\u001B[0m\u001B[0;34m:\u001B[0m\u001B[0;34m\u001B[0m\u001B[0;34m\u001B[0m\u001B[0m\n\u001B[1;32m    102\u001B[0m             \u001B[0mself\u001B[0m\u001B[0;34m.\u001B[0m\u001B[0mdisable\u001B[0m\u001B[0;34m(\u001B[0m\u001B[0;34m)\u001B[0m\u001B[0;34m\u001B[0m\u001B[0;34m\u001B[0m\u001B[0m\n",
      "\u001B[0;32m<string>\u001B[0m in \u001B[0;36m<module>\u001B[0;34m()\u001B[0m\n",
      "\u001B[0;32m<ipython-input-39-6c6b145dd064>\u001B[0m in \u001B[0;36mtrain\u001B[0;34m()\u001B[0m\n\u001B[1;32m     31\u001B[0m \u001B[0;34m\u001B[0m\u001B[0m\n\u001B[1;32m     32\u001B[0m             \u001B[0md_out\u001B[0m \u001B[0;34m=\u001B[0m \u001B[0mdecoder\u001B[0m\u001B[0;34m(\u001B[0m\u001B[0mdefs_ps\u001B[0m\u001B[0;34m,\u001B[0m \u001B[0mdecoder_input\u001B[0m\u001B[0;34m)\u001B[0m\u001B[0;34m\u001B[0m\u001B[0;34m\u001B[0m\u001B[0m\n\u001B[0;32m---> 33\u001B[0;31m             \u001B[0md_out_lsm\u001B[0m \u001B[0;34m=\u001B[0m \u001B[0msquash_packed\u001B[0m\u001B[0;34m(\u001B[0m\u001B[0md_out\u001B[0m\u001B[0;34m,\u001B[0m \u001B[0mlog_softmax\u001B[0m\u001B[0;34m)\u001B[0m\u001B[0;34m.\u001B[0m\u001B[0mdata\u001B[0m\u001B[0;34m\u001B[0m\u001B[0;34m\u001B[0m\u001B[0m\n\u001B[0m\u001B[1;32m     34\u001B[0m \u001B[0;34m\u001B[0m\u001B[0m\n\u001B[1;32m     35\u001B[0m             \u001B[0mloss\u001B[0m \u001B[0;34m=\u001B[0m \u001B[0mcriterion\u001B[0m\u001B[0;34m(\u001B[0m\u001B[0md_out_lsm\u001B[0m\u001B[0;34m,\u001B[0m \u001B[0mdef_ids\u001B[0m\u001B[0;34m.\u001B[0m\u001B[0mdata\u001B[0m\u001B[0;34m)\u001B[0m\u001B[0;34m\u001B[0m\u001B[0;34m\u001B[0m\u001B[0m\n",
      "\u001B[0;32m/Users/oboiko/dev/S/word_definition_modeling/utils.py\u001B[0m in \u001B[0;36msquash_packed\u001B[0;34m(x, fn)\u001B[0m\n\u001B[1;32m     29\u001B[0m \u001B[0;34m\u001B[0m\u001B[0m\n\u001B[1;32m     30\u001B[0m \u001B[0;32mdef\u001B[0m \u001B[0msquash_packed\u001B[0m\u001B[0;34m(\u001B[0m\u001B[0mx\u001B[0m\u001B[0;34m,\u001B[0m \u001B[0mfn\u001B[0m\u001B[0;34m=\u001B[0m\u001B[0mtorch\u001B[0m\u001B[0;34m.\u001B[0m\u001B[0mtanh\u001B[0m\u001B[0;34m)\u001B[0m\u001B[0;34m:\u001B[0m\u001B[0;34m\u001B[0m\u001B[0;34m\u001B[0m\u001B[0m\n\u001B[0;32m---> 31\u001B[0;31m     return torch.nn.utils.rnn.PackedSequence(fn(x.data), x.batch_sizes,\n\u001B[0m\u001B[1;32m     32\u001B[0m                  x.sorted_indices, x.unsorted_indices)\n\u001B[1;32m     33\u001B[0m \u001B[0;34m\u001B[0m\u001B[0m\n",
      "\u001B[0;32m/Users/oboiko/opt/miniconda3/envs/S37/lib/python3.7/site-packages/torch/nn/modules/module.py\u001B[0m in \u001B[0;36m_call_impl\u001B[0;34m(self, *input, **kwargs)\u001B[0m\n\u001B[1;32m    720\u001B[0m             \u001B[0mresult\u001B[0m \u001B[0;34m=\u001B[0m \u001B[0mself\u001B[0m\u001B[0;34m.\u001B[0m\u001B[0m_slow_forward\u001B[0m\u001B[0;34m(\u001B[0m\u001B[0;34m*\u001B[0m\u001B[0minput\u001B[0m\u001B[0;34m,\u001B[0m \u001B[0;34m**\u001B[0m\u001B[0mkwargs\u001B[0m\u001B[0;34m)\u001B[0m\u001B[0;34m\u001B[0m\u001B[0;34m\u001B[0m\u001B[0m\n\u001B[1;32m    721\u001B[0m         \u001B[0;32melse\u001B[0m\u001B[0;34m:\u001B[0m\u001B[0;34m\u001B[0m\u001B[0;34m\u001B[0m\u001B[0m\n\u001B[0;32m--> 722\u001B[0;31m             \u001B[0mresult\u001B[0m \u001B[0;34m=\u001B[0m \u001B[0mself\u001B[0m\u001B[0;34m.\u001B[0m\u001B[0mforward\u001B[0m\u001B[0;34m(\u001B[0m\u001B[0;34m*\u001B[0m\u001B[0minput\u001B[0m\u001B[0;34m,\u001B[0m \u001B[0;34m**\u001B[0m\u001B[0mkwargs\u001B[0m\u001B[0;34m)\u001B[0m\u001B[0;34m\u001B[0m\u001B[0;34m\u001B[0m\u001B[0m\n\u001B[0m\u001B[1;32m    723\u001B[0m         for hook in itertools.chain(\n\u001B[1;32m    724\u001B[0m                 \u001B[0m_global_forward_hooks\u001B[0m\u001B[0;34m.\u001B[0m\u001B[0mvalues\u001B[0m\u001B[0;34m(\u001B[0m\u001B[0;34m)\u001B[0m\u001B[0;34m,\u001B[0m\u001B[0;34m\u001B[0m\u001B[0;34m\u001B[0m\u001B[0m\n",
      "\u001B[0;32m/Users/oboiko/opt/miniconda3/envs/S37/lib/python3.7/site-packages/torch/nn/modules/activation.py\u001B[0m in \u001B[0;36mforward\u001B[0;34m(self, input)\u001B[0m\n\u001B[1;32m   1209\u001B[0m \u001B[0;34m\u001B[0m\u001B[0m\n\u001B[1;32m   1210\u001B[0m     \u001B[0;32mdef\u001B[0m \u001B[0mforward\u001B[0m\u001B[0;34m(\u001B[0m\u001B[0mself\u001B[0m\u001B[0;34m,\u001B[0m \u001B[0minput\u001B[0m\u001B[0;34m:\u001B[0m \u001B[0mTensor\u001B[0m\u001B[0;34m)\u001B[0m \u001B[0;34m->\u001B[0m \u001B[0mTensor\u001B[0m\u001B[0;34m:\u001B[0m\u001B[0;34m\u001B[0m\u001B[0;34m\u001B[0m\u001B[0m\n\u001B[0;32m-> 1211\u001B[0;31m         \u001B[0;32mreturn\u001B[0m \u001B[0mF\u001B[0m\u001B[0;34m.\u001B[0m\u001B[0mlog_softmax\u001B[0m\u001B[0;34m(\u001B[0m\u001B[0minput\u001B[0m\u001B[0;34m,\u001B[0m \u001B[0mself\u001B[0m\u001B[0;34m.\u001B[0m\u001B[0mdim\u001B[0m\u001B[0;34m,\u001B[0m \u001B[0m_stacklevel\u001B[0m\u001B[0;34m=\u001B[0m\u001B[0;36m5\u001B[0m\u001B[0;34m)\u001B[0m\u001B[0;34m\u001B[0m\u001B[0;34m\u001B[0m\u001B[0m\n\u001B[0m\u001B[1;32m   1212\u001B[0m \u001B[0;34m\u001B[0m\u001B[0m\n\u001B[1;32m   1213\u001B[0m     \u001B[0;32mdef\u001B[0m \u001B[0mextra_repr\u001B[0m\u001B[0;34m(\u001B[0m\u001B[0mself\u001B[0m\u001B[0;34m)\u001B[0m\u001B[0;34m:\u001B[0m\u001B[0;34m\u001B[0m\u001B[0;34m\u001B[0m\u001B[0m\n",
      "\u001B[0;32m/Users/oboiko/opt/miniconda3/envs/S37/lib/python3.7/site-packages/torch/nn/functional.py\u001B[0m in \u001B[0;36mlog_softmax\u001B[0;34m(input, dim, _stacklevel, dtype)\u001B[0m\n\u001B[1;32m   1589\u001B[0m         \u001B[0mdim\u001B[0m \u001B[0;34m=\u001B[0m \u001B[0m_get_softmax_dim\u001B[0m\u001B[0;34m(\u001B[0m\u001B[0;34m'log_softmax'\u001B[0m\u001B[0;34m,\u001B[0m \u001B[0minput\u001B[0m\u001B[0;34m.\u001B[0m\u001B[0mdim\u001B[0m\u001B[0;34m(\u001B[0m\u001B[0;34m)\u001B[0m\u001B[0;34m,\u001B[0m \u001B[0m_stacklevel\u001B[0m\u001B[0;34m)\u001B[0m\u001B[0;34m\u001B[0m\u001B[0;34m\u001B[0m\u001B[0m\n\u001B[1;32m   1590\u001B[0m     \u001B[0;32mif\u001B[0m \u001B[0mdtype\u001B[0m \u001B[0;32mis\u001B[0m \u001B[0;32mNone\u001B[0m\u001B[0;34m:\u001B[0m\u001B[0;34m\u001B[0m\u001B[0;34m\u001B[0m\u001B[0m\n\u001B[0;32m-> 1591\u001B[0;31m         \u001B[0mret\u001B[0m \u001B[0;34m=\u001B[0m \u001B[0minput\u001B[0m\u001B[0;34m.\u001B[0m\u001B[0mlog_softmax\u001B[0m\u001B[0;34m(\u001B[0m\u001B[0mdim\u001B[0m\u001B[0;34m)\u001B[0m\u001B[0;34m\u001B[0m\u001B[0;34m\u001B[0m\u001B[0m\n\u001B[0m\u001B[1;32m   1592\u001B[0m     \u001B[0;32melse\u001B[0m\u001B[0;34m:\u001B[0m\u001B[0;34m\u001B[0m\u001B[0;34m\u001B[0m\u001B[0m\n\u001B[1;32m   1593\u001B[0m         \u001B[0mret\u001B[0m \u001B[0;34m=\u001B[0m \u001B[0minput\u001B[0m\u001B[0;34m.\u001B[0m\u001B[0mlog_softmax\u001B[0m\u001B[0;34m(\u001B[0m\u001B[0mdim\u001B[0m\u001B[0;34m,\u001B[0m \u001B[0mdtype\u001B[0m\u001B[0;34m=\u001B[0m\u001B[0mdtype\u001B[0m\u001B[0;34m)\u001B[0m\u001B[0;34m\u001B[0m\u001B[0;34m\u001B[0m\u001B[0m\n",
      "\u001B[0;31mKeyboardInterrupt\u001B[0m: "
     ]
    }
   ],
   "source": [
    "def train():\n",
    "    epochs = 3\n",
    "    criterion = nn.NLLLoss()\n",
    "    log_softmax = nn.LogSoftmax(dim=1)\n",
    "\n",
    "    # encoder_optim = torch.optim.Adam(encoder.parameters())\n",
    "    # decoder_optim = torch.optim.Adam(decoder.parameters())\n",
    "\n",
    "    encoder_optim = torch.optim.SGD(encoder.parameters(), lr=0.01)\n",
    "    decoder_optim = torch.optim.SGD(decoder.parameters(), lr=0.01)\n",
    "    loss = 0\n",
    "\n",
    "    for i in range(epochs):\n",
    "        epoch_loss = 0\n",
    "        j = 0\n",
    "        for words, defs, examples in tqdm(dataset_loader):\n",
    "            encoder_optim.zero_grad()\n",
    "            decoder_optim.zero_grad()\n",
    "\n",
    "            examples_ps, examples_lens = strings_to_batch(examples)\n",
    "            defs_ps, defs_lens = strings_to_batch(defs)\n",
    "            def_ids = strings_to_ids(defs)\n",
    "\n",
    "            e_out, e_hidden = encoder(examples_ps)\n",
    "\n",
    "            decoder_input = torch.cat((e_hidden[0], e_hidden[1]), dim=1)\n",
    "            # decoder_input = decoder_input[examples.unsorted_indices]  # pytorch will do this automatically\n",
    "            # decoder_input = decoder_input[defs.sorted_indices]  # pytorch will do this automatically\n",
    "            decoder_input = decoder_input.unsqueeze(dim=0)\n",
    "\n",
    "            d_out = decoder(defs_ps, decoder_input)\n",
    "            d_out_lsm = squash_packed(d_out, log_softmax).data\n",
    "\n",
    "            loss = criterion(d_out_lsm, def_ids.data)\n",
    "\n",
    "            loss.backward()\n",
    "\n",
    "            encoder_optim.step()\n",
    "            decoder_optim.step()\n",
    "\n",
    "            j += 1\n",
    "\n",
    "            if j % 10 == 0:\n",
    "                break\n",
    "\n",
    "        print(f'Epoch {i}, loss {loss.item()}')"
   ]
  },
  {
   "cell_type": "markdown",
   "source": [
    "TODO: For loss function... instead of doing log_softmax, do MSE with actual GloVe vector and minimize this loss function.\n",
    "Then for BLEU evaluation, you'll need a function to find the closest vector to the one produced by the model.\n",
    "\n",
    "Interesting to compare these results to log_softmax"
   ],
   "metadata": {
    "collapsed": false
   }
  }
 ],
 "metadata": {
  "kernelspec": {
   "display_name": "Python 3",
   "language": "python",
   "name": "python3"
  },
  "language_info": {
   "codemirror_mode": {
    "name": "ipython",
    "version": 3
   },
   "file_extension": ".py",
   "mimetype": "text/x-python",
   "name": "python",
   "nbconvert_exporter": "python",
   "pygments_lexer": "ipython3",
   "version": "3.7.7"
  },
  "toc": {
   "base_numbering": 1,
   "nav_menu": {
    "height": "146.989px",
    "width": "305px"
   },
   "number_sections": true,
   "sideBar": true,
   "skip_h1_title": false,
   "title_cell": "Table of Contents",
   "title_sidebar": "Contents",
   "toc_cell": false,
   "toc_position": {},
   "toc_section_display": true,
   "toc_window_display": false
  }
 },
 "nbformat": 4,
 "nbformat_minor": 4
}