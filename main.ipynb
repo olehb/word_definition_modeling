{
 "cells": [
  {
   "cell_type": "code",
   "execution_count": 1,
   "metadata": {},
   "outputs": [],
   "source": [
    "%load_ext autoreload\n",
    "%autoreload 2"
   ]
  },
  {
   "cell_type": "code",
   "execution_count": 32,
   "metadata": {},
   "outputs": [],
   "source": [
    "from utils import *"
   ]
  },
  {
   "cell_type": "code",
   "execution_count": 31,
   "metadata": {},
   "outputs": [],
   "source": [
    "import torch\n",
    "from torch import nn"
   ]
  },
  {
   "cell_type": "code",
   "execution_count": 13,
   "metadata": {},
   "outputs": [],
   "source": [
    "dim = 50"
   ]
  },
  {
   "cell_type": "code",
   "execution_count": 24,
   "metadata": {},
   "outputs": [
    {
     "data": {
      "text/plain": [
       "400000"
      ]
     },
     "execution_count": 24,
     "metadata": {},
     "output_type": "execute_result"
    }
   ],
   "source": [
    "embeddings = load_glove_embeddings(dim)\n",
    "len(embeddings)"
   ]
  },
  {
   "cell_type": "code",
   "execution_count": 25,
   "metadata": {},
   "outputs": [
    {
     "data": {
      "text/plain": [
       "array([ 0.1392   ,  0.75319  , -0.17145  , -0.66225  , -0.1074   ,\n",
       "        0.38935  , -0.45173  , -0.71522  , -0.34115  ,  0.9171   ,\n",
       "        0.56612  ,  0.25251  ,  1.0873   ,  0.99685  ,  0.17052  ,\n",
       "        0.86621  ,  0.061382 , -0.13748  , -0.28577  , -1.2783   ,\n",
       "        0.60665  , -0.32752  ,  0.78144  , -0.7399   ,  0.11285  ,\n",
       "       -0.33086  , -1.3136   ,  1.4563   ,  0.044729 , -1.1595   ,\n",
       "        0.33015  , -0.53124  , -0.63051  ,  0.0096928, -0.5013   ,\n",
       "       -0.099227 ,  0.16237  ,  0.9057   ,  0.78503  , -0.17706  ,\n",
       "        0.7864   , -0.18004  ,  0.10992  , -0.1697   ,  0.54075  ,\n",
       "        0.39372  ,  0.28658  , -0.68865  , -0.37783  , -1.0411   ],\n",
       "      dtype=float32)"
      ]
     },
     "execution_count": 25,
     "metadata": {},
     "output_type": "execute_result"
    }
   ],
   "source": [
    "embeddings['wax']"
   ]
  },
  {
   "cell_type": "code",
   "execution_count": 26,
   "metadata": {},
   "outputs": [],
   "source": [
    "data = [\n",
    "    (\"sequencer\", \"dna sequencing was carried out using the dye termination kit and an automatic sequencer\", \"an apparatus for determining the sequence of amino acids or other monomers in a biological polymer\"),\n",
    "    (\"order\", \"the templars were also known as the order of christ\", \"a society of knights bound by a common rule of life and having a combined military and monastic character\"),\n",
    "    (\"horde\", \"an army or tribe of nomadic warriors\", \"the viking hordes returned to york this weekend as fierce armoured warriors mingled with the city centre crowds .\"),\n",
    "    (\"anaemic\", \"although it has been thought of as a symptom of iron deficiency , it is more commonly discovered in patients who are not anemic .\", \"suffering from anaemia\")\n",
    "]"
   ]
  },
  {
   "cell_type": "code",
   "execution_count": 30,
   "metadata": {},
   "outputs": [],
   "source": [
    "SOS = torch.zeros(dim)\n",
    "EOS = torch.ones(dim)\n",
    "embeddings['<s>'] = SOS\n",
    "embeddings['</s>'] = EOS"
   ]
  },
  {
   "cell_type": "code",
   "execution_count": 33,
   "metadata": {},
   "outputs": [],
   "source": [
    "endcoder = init_encoder()\n",
    "decoder = init_decoder()\n",
    "data_loader = init_data_loader()"
   ]
  },
  {
   "cell_type": "code",
   "execution_count": null,
   "metadata": {},
   "outputs": [],
   "source": [
    "epochs = 100\n",
    "criterion = nn.NLLLoss()\n",
    "encoder_optim = torch.optim.Adam()\n",
    "decoder_optim = torch.optim.Adam()\n",
    "\n",
    "for i in range(epochs):\n",
    "    epoch_loss = 0\n",
    "    for x, y in data_loader:\n",
    "        contexts = encoder.forward(x)\n",
    "        outputs = decoder.forward(contexts)\n",
    "        \n",
    "        loss = criterion(outputs, y)\n",
    "        loss.backward()\n",
    "        \n",
    "        encoder_optimizer.step()\n",
    "        decoder_optimizer.step()\n",
    "        \n",
    "        epoch_loss += loss.item() / len(x)\n",
    "        \n",
    "    print(f'epoch_loss={epoch_loss})"
   ]
  },
  {
   "cell_type": "code",
   "execution_count": null,
   "metadata": {
    "collapsed": true
   },
   "outputs": [],
   "source": [
    "encoder."
   ]
  }
 ],
 "metadata": {
  "kernelspec": {
   "display_name": "Python 3",
   "language": "python",
   "name": "python3"
  },
  "language_info": {
   "codemirror_mode": {
    "name": "ipython",
    "version": 3
   },
   "file_extension": ".py",
   "mimetype": "text/x-python",
   "name": "python",
   "nbconvert_exporter": "python",
   "pygments_lexer": "ipython3",
   "version": "3.7.7"
  },
  "toc": {
   "base_numbering": 1,
   "nav_menu": {
    "height": "146.989px",
    "width": "305px"
   },
   "number_sections": true,
   "sideBar": true,
   "skip_h1_title": false,
   "title_cell": "Table of Contents",
   "title_sidebar": "Contents",
   "toc_cell": false,
   "toc_position": {},
   "toc_section_display": true,
   "toc_window_display": false
  }
 },
 "nbformat": 4,
 "nbformat_minor": 4
}
