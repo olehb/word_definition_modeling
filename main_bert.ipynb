{
 "cells": [
  {
   "cell_type": "code",
   "execution_count": null,
   "metadata": {},
   "outputs": [],
   "source": [
    "%load_ext autoreload\n",
    "%autoreload 2"
   ]
  },
  {
   "cell_type": "code",
   "execution_count": null,
   "metadata": {},
   "outputs": [],
   "source": [
    "!pip install transformers"
   ]
  },
  {
   "cell_type": "code",
   "execution_count": null,
   "metadata": {
    "collapsed": false,
    "jupyter": {
     "outputs_hidden": false
    },
    "pycharm": {
     "name": "#%%\n"
    }
   },
   "outputs": [],
   "source": [
    "from transformers import (EncoderDecoderModel,\n",
    "                          PreTrainedModel,\n",
    "                          BertTokenizer,\n",
    "                          BertGenerationEncoder,\n",
    "                          BertGenerationDecoder)"
   ]
  },
  {
   "cell_type": "code",
   "execution_count": null,
   "metadata": {},
   "outputs": [],
   "source": [
    "import os\n",
    "import torch\n",
    "from torch import nn\n",
    "from tqdm import tqdm"
   ]
  },
  {
   "cell_type": "markdown",
   "metadata": {
    "pycharm": {
     "name": "#%% md\n"
    }
   },
   "source": [
    "### Determining device to run on"
   ]
  },
  {
   "cell_type": "code",
   "execution_count": null,
   "metadata": {
    "collapsed": false,
    "jupyter": {
     "outputs_hidden": false
    },
    "pycharm": {
     "name": "#%%\n"
    }
   },
   "outputs": [],
   "source": [
    "if torch.cuda.is_available():\n",
    "    device = torch.device(\"cuda:0\")\n",
    "    print(\"Running on the GPU\")\n",
    "else:\n",
    "    device = torch.device(\"cpu\")\n",
    "    print(\"Running on the CPU\")"
   ]
  },
  {
   "cell_type": "markdown",
   "metadata": {
    "pycharm": {
     "name": "#%% md\n"
    }
   },
   "source": [
    "### Reading hyperparameters from SageMaker env variables"
   ]
  },
  {
   "cell_type": "code",
   "execution_count": null,
   "metadata": {
    "collapsed": false,
    "jupyter": {
     "outputs_hidden": false
    },
    "pycharm": {
     "name": "#%%\n"
    }
   },
   "outputs": [],
   "source": [
    "model_type = os.environ.get('SM_HP_MODEL_TYPE', 'bert-base-uncased')\n",
    "data_loc = os.environ.get('SM_HP_DATA_LOC', '../data')\n",
    "epochs = int(os.environ.get('SM_HP_EPOCHS', 2))\n",
    "batch = int(os.environ.get('SM_HP_BATCH', 32))\n",
    "lr = float(os.environ.get('SM_HP_LR', 1e-5))\n",
    "train_remotely = bool(int(os.environ.get('SM_HP_TRAIN_REMOTELY', 1)))\n",
    "is_sagemaker_estimator = 'TRAINING_JOB_NAME' in os.environ  # This code is running on the remote SageMaker estimator machine"
   ]
  },
  {
   "cell_type": "code",
   "execution_count": null,
   "metadata": {
    "collapsed": false,
    "jupyter": {
     "outputs_hidden": false
    },
    "pycharm": {
     "name": "#%%\n"
    }
   },
   "outputs": [],
   "source": [
    "BOS_TOKEN_ID = 101\n",
    "EOS_TOKEN_ID = 102"
   ]
  },
  {
   "cell_type": "markdown",
   "metadata": {
    "pycharm": {
     "name": "#%% md\n"
    }
   },
   "source": [
    "### Initializing data loaders for Oxford2019 dataset"
   ]
  },
  {
   "cell_type": "code",
   "execution_count": null,
   "metadata": {
    "collapsed": false,
    "jupyter": {
     "outputs_hidden": false
    },
    "pycharm": {
     "name": "#%%\n"
    }
   },
   "outputs": [],
   "source": [
    "from dataset import Oxford2019Dataset\n",
    "from torch.utils.data import DataLoader\n",
    "\n",
    "def make_data_loader(filename: str, file_loc: str = os.path.join(data_loc, 'Oxford-2019')) -> DataLoader:\n",
    "    dataset = Oxford2019Dataset(data_loc=os.path.join(file_loc, filename))\n",
    "    data_loader = DataLoader(dataset, batch_size=batch, shuffle=True)\n",
    "    return data_loader\n",
    "\n",
    "train_set = make_data_loader('train.txt')\n",
    "test_set = make_data_loader('test.txt')\n",
    "valid_set = make_data_loader('valid.txt')\n"
   ]
  },
  {
   "cell_type": "code",
   "execution_count": null,
   "metadata": {
    "collapsed": false,
    "jupyter": {
     "outputs_hidden": false
    },
    "pycharm": {
     "name": "#%%\n"
    }
   },
   "outputs": [],
   "source": [
    "encoder = BertGenerationEncoder.from_pretrained(model_type,\n",
    "                                                bos_token_id=BOS_TOKEN_ID,\n",
    "                                                eos_token_id=EOS_TOKEN_ID) # add cross attention layers and use BERT’s cls token as BOS token and sep token as EOS token\n",
    "\n",
    "decoder = BertGenerationDecoder.from_pretrained(model_type,\n",
    "                                                add_cross_attention=True,\n",
    "                                                is_decoder=True,\n",
    "                                                bos_token_id=BOS_TOKEN_ID,\n",
    "                                                eos_token_id=EOS_TOKEN_ID)\n",
    "model = EncoderDecoderModel(encoder=encoder, decoder=decoder).to(device)"
   ]
  },
  {
   "cell_type": "markdown",
   "metadata": {},
   "source": [
    "### Function to run through one epoch\n",
    "This function is used in training, validation, and testing phases."
   ]
  },
  {
   "cell_type": "code",
   "execution_count": null,
   "metadata": {
    "collapsed": false,
    "jupyter": {
     "outputs_hidden": false
    },
    "pycharm": {
     "name": "#%%\n"
    }
   },
   "outputs": [],
   "source": [
    "from typing import Callable\n",
    "\n",
    "def run(model: nn.Module,\n",
    "        data_loader: DataLoader,\n",
    "        tokenizer: BertTokenizer,\n",
    "        post_hook: Callable = lambda b: ''):\n",
    "\n",
    "    loss = 0\n",
    "    for words, examples, defs, _ in tqdm(data_loader, disable=is_sagemaker_estimator):\n",
    "        input_ids = tokenizer(examples,\n",
    "                              add_special_tokens=False,\n",
    "                              padding=True,\n",
    "                              truncation=True,\n",
    "                              return_tensors=\"pt\").input_ids\n",
    "        output_ids = tokenizer(defs,\n",
    "                               padding=True,\n",
    "                               truncation=True,\n",
    "                               return_tensors=\"pt\").input_ids\n",
    "        \n",
    "        input_ids = input_ids.to(device)\n",
    "        output_ids = output_ids.to(device)\n",
    "\n",
    "\n",
    "        outputs = model(input_ids=input_ids,\n",
    "                        decoder_input_ids=output_ids,\n",
    "                        labels=output_ids,\n",
    "                        return_dict=True)\n",
    "        batch_loss = outputs.loss\n",
    "        loss += batch_loss.item()\n",
    "\n",
    "        post_hook(batch_loss)\n",
    "    return loss"
   ]
  },
  {
   "cell_type": "markdown",
   "metadata": {},
   "source": [
    "### Training loop function"
   ]
  },
  {
   "cell_type": "code",
   "execution_count": null,
   "metadata": {
    "collapsed": false,
    "jupyter": {
     "outputs_hidden": false
    },
    "pycharm": {
     "name": "#%%\n"
    }
   },
   "outputs": [],
   "source": [
    "from transformers import AdamW\n",
    "\n",
    "\n",
    "def train(epochs: int, train_data_loader: DataLoader, valid_data_loader: DataLoader = None, model: nn.Module = None):\n",
    "    if model is None:\n",
    "        encoder = BertGenerationEncoder.from_pretrained(model_type,\n",
    "                                                        bos_token_id=BOS_TOKEN_ID,\n",
    "                                                        eos_token_id=EOS_TOKEN_ID) # add cross attention layers and use BERT’s cls token as BOS token and sep token as EOS token\n",
    "\n",
    "        decoder = BertGenerationDecoder.from_pretrained(model_type,\n",
    "                                                        add_cross_attention=True,\n",
    "                                                        is_decoder=True,\n",
    "                                                        bos_token_id=BOS_TOKEN_ID,\n",
    "                                                        eos_token_id=EOS_TOKEN_ID)\n",
    "        model = EncoderDecoderModel(encoder=encoder, decoder=decoder).to(device)\n",
    "\n",
    "\n",
    "    optimizer = AdamW(model.parameters(), lr=lr)\n",
    "\n",
    "    tokenizer = BertTokenizer.from_pretrained(model_type)\n",
    "    \n",
    "\n",
    "    def update_weights(batch_loss):\n",
    "        batch_loss.backward()\n",
    "        optimizer.step()\n",
    "        optimizer.zero_grad()\n",
    "\n",
    "    for i in range(epochs):\n",
    "        model.train()\n",
    "        train_loss = run(model, train_data_loader, tokenizer, update_weights)\n",
    "\n",
    "        if valid_data_loader is not None:\n",
    "            with torch.no_grad():\n",
    "                model.eval()\n",
    "                val_loss = run(model, valid_data_loader, tokenizer)\n",
    "        else:\n",
    "            val_loss = 'N/A'\n",
    "\n",
    "        msg = f'Epoch {i} | train loss {train_loss}, val loss {val_loss}'\n",
    "        print(msg)\n",
    "        !echo '{msg}' >> log.txt\n",
    "    return model"
   ]
  },
  {
   "cell_type": "markdown",
   "metadata": {},
   "source": [
    "### Quick sanity check for the training loop"
   ]
  },
  {
   "cell_type": "code",
   "execution_count": null,
   "metadata": {
    "collapsed": false,
    "jupyter": {
     "outputs_hidden": false
    },
    "pycharm": {
     "is_executing": true,
     "name": "#%%\n"
    }
   },
   "outputs": [],
   "source": [
    "if not is_sagemaker_estimator:\n",
    "    train_file = os.path.join(data_loc, 'Oxford-2019', 'train.txt')\n",
    "    tiny_size = batch * 5\n",
    "    tiny_file = os.path.join(data_loc, 'Oxford-2019', 'tiny.txt')\n",
    "    !head -n {tiny_size} {train_file} > {tiny_file}\n",
    "    tiny_set = make_data_loader('tiny.txt')\n",
    "    model = train(epochs=2, train_data_loader=tiny_set, valid_data_loader=tiny_set, model=model)"
   ]
  },
  {
   "cell_type": "markdown",
   "metadata": {},
   "source": [
    "### Function for saving the model"
   ]
  },
  {
   "cell_type": "code",
   "execution_count": null,
   "metadata": {
    "collapsed": false,
    "jupyter": {
     "outputs_hidden": false
    },
    "pycharm": {
     "name": "#%%\n"
    }
   },
   "outputs": [],
   "source": [
    "def save_model(model: PreTrainedModel):\n",
    "    out_loc = '/opt/ml/model' if is_sagemaker_estimator else '.'\n",
    "    !mkdir -p {out_loc}\n",
    "\n",
    "    model.save_pretrained(out_loc)\n",
    "\n",
    "    !cp main.py {out_loc}\n",
    "    !cp main.ipynb {out_loc}\n",
    "    !cp log.txt {out_loc}"
   ]
  },
  {
   "cell_type": "markdown",
   "metadata": {},
   "source": [
    "### Training\n",
    "Training can be done either on the same machine where notebook is running or remotely on SageMaker estimator"
   ]
  },
  {
   "cell_type": "code",
   "execution_count": null,
   "metadata": {
    "collapsed": false,
    "jupyter": {
     "outputs_hidden": false
    },
    "pycharm": {
     "name": "#%%\n"
    }
   },
   "outputs": [],
   "source": [
    "import sagemaker\n",
    "from sagemaker.pytorch import PyTorch\n",
    "\n",
    "if is_sagemaker_estimator:\n",
    "    model = train(epochs=epochs, train_data_loader=train_set, valid_data_loader=valid_set)\n",
    "    save_model(model)\n",
    "elif train_remotely:\n",
    "    role = sagemaker.get_execution_role()\n",
    "    output_path = f's3://chegg-ds-data/oboiko/wdm-output'\n",
    "\n",
    "    pytorch_estimator = PyTorch(entry_point='train.sh',\n",
    "                                base_job_name='wdm-1',\n",
    "                                role=role,\n",
    "                                train_instance_count=1,\n",
    "                                train_instance_type='ml.g4dn.2xlarge',  # GPU instance\n",
    "                                train_volume_size=50,\n",
    "                                train_max_run=86400,  # 24 hours\n",
    "                                hyperparameters={\n",
    "                                  'model_type': 'bert-base-uncased',\n",
    "                                  'data_loc': '/opt/data',\n",
    "                                  'batch': 50,\n",
    "                                  'epochs': 1,\n",
    "                                  'lr': 1e-5,\n",
    "                                  'train_remotely': 0\n",
    "                                },\n",
    "                                framework_version='1.6.0',\n",
    "                                py_version='py3',\n",
    "                                source_dir='.',  # This entire folder will be transferred to training instance\n",
    "                                debugger_hook_config=False,\n",
    "                                output_path=output_path,  # Model files will be uploaded here\n",
    "                                image_name='954558792927.dkr.ecr.us-west-2.amazonaws.com/sagemaker/wdm:latest'\n",
    "                     )\n",
    "\n",
    "    pytorch_estimator.fit('s3://chegg-ds-data/oboiko/wdm/dummy.txt', wait=True)"
   ]
  },
  {
   "cell_type": "markdown",
   "metadata": {},
   "source": [
    "TODO: For loss function... instead of doing log_softmax, do MSE with actual GloVe vector and minimize this loss function.\n",
    "Then for BLEU evaluation, you'll need a function to find the closest vector to the one produced by the model.\n",
    "\n",
    "Interesting to compare these results to log_softmax"
   ]
  }
 ],
 "metadata": {
  "kernelspec": {
   "display_name": "conda_pytorch_latest_p36",
   "language": "python",
   "name": "conda_pytorch_latest_p36"
  },
  "language_info": {
   "codemirror_mode": {
    "name": "ipython",
    "version": 3
   },
   "file_extension": ".py",
   "mimetype": "text/x-python",
   "name": "python",
   "nbconvert_exporter": "python",
   "pygments_lexer": "ipython3",
   "version": "3.6.10"
  },
  "toc": {
   "base_numbering": 1,
   "nav_menu": {
    "height": "146.989px",
    "width": "305px"
   },
   "number_sections": true,
   "sideBar": true,
   "skip_h1_title": false,
   "title_cell": "Table of Contents",
   "title_sidebar": "Contents",
   "toc_cell": false,
   "toc_position": {},
   "toc_section_display": true,
   "toc_window_display": false
  }
 },
 "nbformat": 4,
 "nbformat_minor": 4
}
