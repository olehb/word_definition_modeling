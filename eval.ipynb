{
 "cells": [
  {
   "cell_type": "code",
   "execution_count": 1,
   "outputs": [],
   "source": [
    "import os\n",
    "import torch\n",
    "from wdm import LSTMEncoder, LSTMCellDecoder\n",
    "from embeddings import Embeddings, load_glove_embeddings"
   ],
   "metadata": {
    "collapsed": false,
    "pycharm": {
     "name": "#%%\n"
    }
   }
  },
  {
   "cell_type": "code",
   "execution_count": 2,
   "outputs": [],
   "source": [
    "dim = 50\n",
    "data_loc = '../data'\n",
    "model_loc = '.'"
   ],
   "metadata": {
    "collapsed": false,
    "pycharm": {
     "name": "#%%\n"
    }
   }
  },
  {
   "cell_type": "code",
   "execution_count": null,
   "outputs": [],
   "source": [
    "embeddings = load_glove_embeddings(dim, data_loc)\n",
    "len(embeddings)"
   ],
   "metadata": {
    "collapsed": false,
    "pycharm": {
     "name": "#%%\n"
    }
   }
  },
  {
   "cell_type": "code",
   "execution_count": 3,
   "metadata": {
    "collapsed": true
   },
   "outputs": [],
   "source": [
    "def load_encoder(filename):\n",
    "    encoder = LSTMEncoder(dim, dim)\n",
    "    with open(filename, 'rb') as f:\n",
    "        encoder.load_state_dict(torch.load(f))\n",
    "    return encoder\n",
    "\n",
    "def load_decoder(filename):\n",
    "    decoder = LSTMCellDecoder(dim, dim*2, len(embeddings))\n",
    "    with open(filename, 'rb') as f:\n",
    "        decoder.load_state_dict(torch.load(f))\n",
    "    return decoder"
   ]
  },
  {
   "cell_type": "code",
   "execution_count": null,
   "outputs": [],
   "source": [
    "encoder = load_encoder(os.path.join(model_loc, 'encoder.pt'))\n",
    "decoder = load_decoder(os.path.join(model_loc, 'decoder.pt'))\n",
    "\n"
   ],
   "metadata": {
    "collapsed": false,
    "pycharm": {
     "name": "#%%\n"
    }
   }
  }
 ],
 "metadata": {
  "kernelspec": {
   "display_name": "Python 3",
   "language": "python",
   "name": "python3"
  },
  "language_info": {
   "codemirror_mode": {
    "name": "ipython",
    "version": 2
   },
   "file_extension": ".py",
   "mimetype": "text/x-python",
   "name": "python",
   "nbconvert_exporter": "python",
   "pygments_lexer": "ipython2",
   "version": "2.7.6"
  }
 },
 "nbformat": 4,
 "nbformat_minor": 0
}